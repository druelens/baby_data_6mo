{
 "cells": [
  {
   "cell_type": "markdown",
   "metadata": {},
   "source": [
    "# 6 month data analysis\n"
   ]
  },
  {
   "cell_type": "code",
   "execution_count": 21,
   "metadata": {},
   "outputs": [],
   "source": [
    "import pandas as pd;\n",
    "import plotly.graph_objects as go;\n",
    "import plotly.express as px;\n",
    "import datetime;\n"
   ]
  },
  {
   "cell_type": "markdown",
   "metadata": {},
   "source": [
    "## Importing data from Baby Buddy\n"
   ]
  },
  {
   "cell_type": "markdown",
   "metadata": {},
   "source": [
    "Import all .csv data sets exported from the [Baby Buddy](https://github.com/babybuddy/babybuddy) app:\n"
   ]
  },
  {
   "cell_type": "code",
   "execution_count": 22,
   "metadata": {},
   "outputs": [],
   "source": [
    "df_sleep = pd.read_csv('data/sleep.csv');\n",
    "df_feeding = pd.read_csv('data/feeding.csv');\n",
    "df_diaper = pd.read_csv('data/diaper.csv');\n",
    "df_weight = pd.read_csv('data/weight.csv');"
   ]
  },
  {
   "cell_type": "markdown",
   "metadata": {},
   "source": [
    "Transform all date string to Date type:\n"
   ]
  },
  {
   "cell_type": "code",
   "execution_count": 23,
   "metadata": {},
   "outputs": [],
   "source": [
    "df_sleep['start'] = pd.to_datetime(df_sleep['start'], format='%d/%m/%Y %H:%M');\n",
    "df_sleep['end'] = pd.to_datetime(df_sleep['end'], format='%d/%m/%Y %H:%M');\n",
    "df_feeding['start'] = pd.to_datetime(df_feeding['start'], format='%d/%m/%Y %H:%M');\n",
    "df_feeding['end'] = pd.to_datetime(df_feeding['end'], format='%d/%m/%Y %H:%M');\n",
    "df_diaper['time'] = pd.to_datetime(df_diaper['time'], format='%d/%m/%Y %H:%M');\n",
    "df_weight['date'] = pd.to_datetime(df_weight['date'], format='%d/%m/%Y');"
   ]
  },
  {
   "cell_type": "markdown",
   "metadata": {},
   "source": [
    "Remove any data points more recent than the 6 month mark:\n"
   ]
  },
  {
   "cell_type": "code",
   "execution_count": 24,
   "metadata": {},
   "outputs": [],
   "source": [
    "df_sleep.drop(df_sleep[df_sleep.start > '2024-02-15'].index, inplace=True);\n",
    "df_feeding.drop(df_feeding[df_feeding.start > '2024-02-15'].index, inplace=True);\n",
    "df_diaper.drop(df_diaper[df_diaper.time > '2024-02-15'].index, inplace=True);\n",
    "df_weight.drop(df_weight[df_weight.date > '2024-02-15'].index, inplace=True);"
   ]
  },
  {
   "cell_type": "markdown",
   "metadata": {},
   "source": [
    "Add duration columns:\n"
   ]
  },
  {
   "cell_type": "code",
   "execution_count": 25,
   "metadata": {},
   "outputs": [],
   "source": [
    "df_sleep['duration'] = df_sleep['end'] - df_sleep['start'];\n",
    "df_feeding['duration'] = df_feeding['end'] - df_feeding['start'];"
   ]
  },
  {
   "cell_type": "markdown",
   "metadata": {},
   "source": [
    "## Time Analysis\n"
   ]
  },
  {
   "cell_type": "markdown",
   "metadata": {},
   "source": [
    "Total time of 6 months since baby was born is 184 days. Unfortunately we only have sleep data since the 5th of September, which is 163 days:\n"
   ]
  },
  {
   "cell_type": "code",
   "execution_count": 26,
   "metadata": {},
   "outputs": [],
   "source": [
    "total_time = pd.to_timedelta(24*7, 'h');\n",
    "time_asleep = df_sleep[['start','duration']].groupby(pd.Grouper(key='start', freq='1W')).sum().reset_index();\n",
    "time_asleep['awake'] = total_time - time_asleep['duration'];\n",
    "\n",
    "time_feeding = df_feeding[['start','duration']].groupby(pd.Grouper(key='start', freq='1W')).sum().reset_index();\n",
    "time_feeding['partying'] = time_asleep['awake'] - time_feeding['duration'];"
   ]
  },
  {
   "cell_type": "code",
   "execution_count": 27,
   "metadata": {},
   "outputs": [],
   "source": [
    "time_asleep = time_asleep[1:-1];\n",
    "time_feeding = time_feeding[1:-1];"
   ]
  },
  {
   "cell_type": "code",
   "execution_count": 28,
   "metadata": {},
   "outputs": [],
   "source": [
    "def createFrame(week):\n",
    "    total_hours = 24*7;\n",
    "    asleep_hours = time_asleep.loc[week]['duration'].total_seconds()//3600;\n",
    "    awake_hours = time_asleep.loc[week]['awake'].total_seconds()//3600;\n",
    "    feeding_hours = time_feeding.loc[week]['duration'].total_seconds()//3600;\n",
    "    partying_hours = time_feeding.loc[week]['partying'].total_seconds()//3600;\n",
    "\n",
    "    pct_asleep = f\"{asleep_hours / total_hours:.0%}\";\n",
    "    pct_awake = f\"{awake_hours / total_hours:.0%}\";\n",
    "    pct_feeding = f\"{feeding_hours / total_hours:.0%}\";\n",
    "    pct_partying = f\"{partying_hours / total_hours:.0%}\";\n",
    "\n",
    "\n",
    "    return {\"data\": [go.Sankey(\n",
    "    arrangement='snap',\n",
    "    # Define nodes\n",
    "    node = dict(\n",
    "      pad = 15,\n",
    "      thickness = 20,\n",
    "      line = dict(color = \"black\", width = 0.5),\n",
    "      label =  [\n",
    "          f'Total Time', \n",
    "          f'Asleep ({pct_asleep})', \n",
    "          f'Awake ({pct_awake})', \n",
    "          f'Feeding ({pct_feeding})', \n",
    "          f'Partying ({pct_partying})'],\n",
    "      x= [0, 0.5, 0.5, 1, 1],\n",
    "      y = [0.2, 0.2, 0.5, 0.5, 0.5],\n",
    "      align = 'left'\n",
    "    ),\n",
    "    # Add links\n",
    "    link = dict(\n",
    "      source =  [0, 0, 2, 2],\n",
    "      target =  [1, 2, 3, 4],\n",
    "      value =  [\n",
    "          asleep_hours,\n",
    "          awake_hours, \n",
    "          feeding_hours, \n",
    "          partying_hours\n",
    "        ]\n",
    "))],\n",
    "\"name\": str(week),\n",
    "\"layout\": go.Layout(\n",
    "  title=f'Baby\\'s time management (Week {week}) 🕥')}"
   ]
  },
  {
   "cell_type": "code",
   "execution_count": 29,
   "metadata": {},
   "outputs": [],
   "source": [
    "frames = [];\n",
    "slider_steps = [];\n",
    "for week in range(1,len(time_asleep)):\n",
    "    frames.append(go.Frame(createFrame(week)))\n",
    "    slider_steps.append({\n",
    "        \"args\": [\n",
    "        [week],\n",
    "        {\"frame\": {\"duration\": 300, \"redraw\": True},\n",
    "         \"mode\": \"immediate\",\n",
    "         \"transition\": {\"duration\": 300}}\n",
    "    ],\n",
    "        \"label\": week,\n",
    "        \"method\": \"animate\"\n",
    "    })"
   ]
  },
  {
   "cell_type": "code",
   "execution_count": 30,
   "metadata": {},
   "outputs": [
    {
     "data": {
      "application/vnd.plotly.v1+json": {
       "config": {
        "plotlyServerURL": "https://plot.ly"
       },
       "data": [
        {
         "arrangement": "snap",
         "link": {
          "source": [
           0,
           0,
           2,
           2
          ],
          "target": [
           1,
           2,
           3,
           4
          ],
          "value": [
           92,
           75,
           26,
           48
          ]
         },
         "node": {
          "align": "left",
          "label": [
           "Total Time",
           "Asleep (55%)",
           "Awake (45%)",
           "Feeding (15%)",
           "Partying (29%)"
          ],
          "line": {
           "color": "black",
           "width": 0.5
          },
          "pad": 15,
          "thickness": 20,
          "x": [
           0,
           0.5,
           0.5,
           1,
           1
          ],
          "y": [
           0.2,
           0.2,
           0.5,
           0.5,
           0.5
          ]
         },
         "type": "sankey"
        }
       ],
       "frames": [
        {
         "data": [
          {
           "arrangement": "snap",
           "link": {
            "source": [
             0,
             0,
             2,
             2
            ],
            "target": [
             1,
             2,
             3,
             4
            ],
            "value": [
             92,
             75,
             26,
             48
            ]
           },
           "node": {
            "align": "left",
            "label": [
             "Total Time",
             "Asleep (55%)",
             "Awake (45%)",
             "Feeding (15%)",
             "Partying (29%)"
            ],
            "line": {
             "color": "black",
             "width": 0.5
            },
            "pad": 15,
            "thickness": 20,
            "x": [
             0,
             0.5,
             0.5,
             1,
             1
            ],
            "y": [
             0.2,
             0.2,
             0.5,
             0.5,
             0.5
            ]
           },
           "type": "sankey"
          }
         ],
         "layout": {
          "title": {
           "text": "Baby's time management (Week 1) 🕥"
          }
         },
         "name": "1"
        },
        {
         "data": [
          {
           "arrangement": "snap",
           "link": {
            "source": [
             0,
             0,
             2,
             2
            ],
            "target": [
             1,
             2,
             3,
             4
            ],
            "value": [
             91,
             76,
             20,
             55
            ]
           },
           "node": {
            "align": "left",
            "label": [
             "Total Time",
             "Asleep (54%)",
             "Awake (45%)",
             "Feeding (12%)",
             "Partying (33%)"
            ],
            "line": {
             "color": "black",
             "width": 0.5
            },
            "pad": 15,
            "thickness": 20,
            "x": [
             0,
             0.5,
             0.5,
             1,
             1
            ],
            "y": [
             0.2,
             0.2,
             0.5,
             0.5,
             0.5
            ]
           },
           "type": "sankey"
          }
         ],
         "layout": {
          "title": {
           "text": "Baby's time management (Week 2) 🕥"
          }
         },
         "name": "2"
        },
        {
         "data": [
          {
           "arrangement": "snap",
           "link": {
            "source": [
             0,
             0,
             2,
             2
            ],
            "target": [
             1,
             2,
             3,
             4
            ],
            "value": [
             85,
             82,
             15,
             66
            ]
           },
           "node": {
            "align": "left",
            "label": [
             "Total Time",
             "Asleep (51%)",
             "Awake (49%)",
             "Feeding (9%)",
             "Partying (39%)"
            ],
            "line": {
             "color": "black",
             "width": 0.5
            },
            "pad": 15,
            "thickness": 20,
            "x": [
             0,
             0.5,
             0.5,
             1,
             1
            ],
            "y": [
             0.2,
             0.2,
             0.5,
             0.5,
             0.5
            ]
           },
           "type": "sankey"
          }
         ],
         "layout": {
          "title": {
           "text": "Baby's time management (Week 3) 🕥"
          }
         },
         "name": "3"
        },
        {
         "data": [
          {
           "arrangement": "snap",
           "link": {
            "source": [
             0,
             0,
             2,
             2
            ],
            "target": [
             1,
             2,
             3,
             4
            ],
            "value": [
             85,
             82,
             17,
             64
            ]
           },
           "node": {
            "align": "left",
            "label": [
             "Total Time",
             "Asleep (51%)",
             "Awake (49%)",
             "Feeding (10%)",
             "Partying (38%)"
            ],
            "line": {
             "color": "black",
             "width": 0.5
            },
            "pad": 15,
            "thickness": 20,
            "x": [
             0,
             0.5,
             0.5,
             1,
             1
            ],
            "y": [
             0.2,
             0.2,
             0.5,
             0.5,
             0.5
            ]
           },
           "type": "sankey"
          }
         ],
         "layout": {
          "title": {
           "text": "Baby's time management (Week 4) 🕥"
          }
         },
         "name": "4"
        },
        {
         "data": [
          {
           "arrangement": "snap",
           "link": {
            "source": [
             0,
             0,
             2,
             2
            ],
            "target": [
             1,
             2,
             3,
             4
            ],
            "value": [
             84,
             83,
             16,
             66
            ]
           },
           "node": {
            "align": "left",
            "label": [
             "Total Time",
             "Asleep (50%)",
             "Awake (49%)",
             "Feeding (10%)",
             "Partying (39%)"
            ],
            "line": {
             "color": "black",
             "width": 0.5
            },
            "pad": 15,
            "thickness": 20,
            "x": [
             0,
             0.5,
             0.5,
             1,
             1
            ],
            "y": [
             0.2,
             0.2,
             0.5,
             0.5,
             0.5
            ]
           },
           "type": "sankey"
          }
         ],
         "layout": {
          "title": {
           "text": "Baby's time management (Week 5) 🕥"
          }
         },
         "name": "5"
        },
        {
         "data": [
          {
           "arrangement": "snap",
           "link": {
            "source": [
             0,
             0,
             2,
             2
            ],
            "target": [
             1,
             2,
             3,
             4
            ],
            "value": [
             87,
             80,
             30,
             50
            ]
           },
           "node": {
            "align": "left",
            "label": [
             "Total Time",
             "Asleep (52%)",
             "Awake (48%)",
             "Feeding (18%)",
             "Partying (30%)"
            ],
            "line": {
             "color": "black",
             "width": 0.5
            },
            "pad": 15,
            "thickness": 20,
            "x": [
             0,
             0.5,
             0.5,
             1,
             1
            ],
            "y": [
             0.2,
             0.2,
             0.5,
             0.5,
             0.5
            ]
           },
           "type": "sankey"
          }
         ],
         "layout": {
          "title": {
           "text": "Baby's time management (Week 6) 🕥"
          }
         },
         "name": "6"
        },
        {
         "data": [
          {
           "arrangement": "snap",
           "link": {
            "source": [
             0,
             0,
             2,
             2
            ],
            "target": [
             1,
             2,
             3,
             4
            ],
            "value": [
             93,
             74,
             29,
             44
            ]
           },
           "node": {
            "align": "left",
            "label": [
             "Total Time",
             "Asleep (55%)",
             "Awake (44%)",
             "Feeding (17%)",
             "Partying (26%)"
            ],
            "line": {
             "color": "black",
             "width": 0.5
            },
            "pad": 15,
            "thickness": 20,
            "x": [
             0,
             0.5,
             0.5,
             1,
             1
            ],
            "y": [
             0.2,
             0.2,
             0.5,
             0.5,
             0.5
            ]
           },
           "type": "sankey"
          }
         ],
         "layout": {
          "title": {
           "text": "Baby's time management (Week 7) 🕥"
          }
         },
         "name": "7"
        },
        {
         "data": [
          {
           "arrangement": "snap",
           "link": {
            "source": [
             0,
             0,
             2,
             2
            ],
            "target": [
             1,
             2,
             3,
             4
            ],
            "value": [
             93,
             74,
             25,
             49
            ]
           },
           "node": {
            "align": "left",
            "label": [
             "Total Time",
             "Asleep (55%)",
             "Awake (44%)",
             "Feeding (15%)",
             "Partying (29%)"
            ],
            "line": {
             "color": "black",
             "width": 0.5
            },
            "pad": 15,
            "thickness": 20,
            "x": [
             0,
             0.5,
             0.5,
             1,
             1
            ],
            "y": [
             0.2,
             0.2,
             0.5,
             0.5,
             0.5
            ]
           },
           "type": "sankey"
          }
         ],
         "layout": {
          "title": {
           "text": "Baby's time management (Week 8) 🕥"
          }
         },
         "name": "8"
        },
        {
         "data": [
          {
           "arrangement": "snap",
           "link": {
            "source": [
             0,
             0,
             2,
             2
            ],
            "target": [
             1,
             2,
             3,
             4
            ],
            "value": [
             94,
             73,
             18,
             55
            ]
           },
           "node": {
            "align": "left",
            "label": [
             "Total Time",
             "Asleep (56%)",
             "Awake (43%)",
             "Feeding (11%)",
             "Partying (33%)"
            ],
            "line": {
             "color": "black",
             "width": 0.5
            },
            "pad": 15,
            "thickness": 20,
            "x": [
             0,
             0.5,
             0.5,
             1,
             1
            ],
            "y": [
             0.2,
             0.2,
             0.5,
             0.5,
             0.5
            ]
           },
           "type": "sankey"
          }
         ],
         "layout": {
          "title": {
           "text": "Baby's time management (Week 9) 🕥"
          }
         },
         "name": "9"
        },
        {
         "data": [
          {
           "arrangement": "snap",
           "link": {
            "source": [
             0,
             0,
             2,
             2
            ],
            "target": [
             1,
             2,
             3,
             4
            ],
            "value": [
             93,
             74,
             15,
             59
            ]
           },
           "node": {
            "align": "left",
            "label": [
             "Total Time",
             "Asleep (55%)",
             "Awake (44%)",
             "Feeding (9%)",
             "Partying (35%)"
            ],
            "line": {
             "color": "black",
             "width": 0.5
            },
            "pad": 15,
            "thickness": 20,
            "x": [
             0,
             0.5,
             0.5,
             1,
             1
            ],
            "y": [
             0.2,
             0.2,
             0.5,
             0.5,
             0.5
            ]
           },
           "type": "sankey"
          }
         ],
         "layout": {
          "title": {
           "text": "Baby's time management (Week 10) 🕥"
          }
         },
         "name": "10"
        },
        {
         "data": [
          {
           "arrangement": "snap",
           "link": {
            "source": [
             0,
             0,
             2,
             2
            ],
            "target": [
             1,
             2,
             3,
             4
            ],
            "value": [
             94,
             73,
             15,
             57
            ]
           },
           "node": {
            "align": "left",
            "label": [
             "Total Time",
             "Asleep (56%)",
             "Awake (43%)",
             "Feeding (9%)",
             "Partying (34%)"
            ],
            "line": {
             "color": "black",
             "width": 0.5
            },
            "pad": 15,
            "thickness": 20,
            "x": [
             0,
             0.5,
             0.5,
             1,
             1
            ],
            "y": [
             0.2,
             0.2,
             0.5,
             0.5,
             0.5
            ]
           },
           "type": "sankey"
          }
         ],
         "layout": {
          "title": {
           "text": "Baby's time management (Week 11) 🕥"
          }
         },
         "name": "11"
        },
        {
         "data": [
          {
           "arrangement": "snap",
           "link": {
            "source": [
             0,
             0,
             2,
             2
            ],
            "target": [
             1,
             2,
             3,
             4
            ],
            "value": [
             92,
             75,
             15,
             60
            ]
           },
           "node": {
            "align": "left",
            "label": [
             "Total Time",
             "Asleep (55%)",
             "Awake (45%)",
             "Feeding (9%)",
             "Partying (36%)"
            ],
            "line": {
             "color": "black",
             "width": 0.5
            },
            "pad": 15,
            "thickness": 20,
            "x": [
             0,
             0.5,
             0.5,
             1,
             1
            ],
            "y": [
             0.2,
             0.2,
             0.5,
             0.5,
             0.5
            ]
           },
           "type": "sankey"
          }
         ],
         "layout": {
          "title": {
           "text": "Baby's time management (Week 12) 🕥"
          }
         },
         "name": "12"
        },
        {
         "data": [
          {
           "arrangement": "snap",
           "link": {
            "source": [
             0,
             0,
             2,
             2
            ],
            "target": [
             1,
             2,
             3,
             4
            ],
            "value": [
             90,
             77,
             15,
             61
            ]
           },
           "node": {
            "align": "left",
            "label": [
             "Total Time",
             "Asleep (54%)",
             "Awake (46%)",
             "Feeding (9%)",
             "Partying (36%)"
            ],
            "line": {
             "color": "black",
             "width": 0.5
            },
            "pad": 15,
            "thickness": 20,
            "x": [
             0,
             0.5,
             0.5,
             1,
             1
            ],
            "y": [
             0.2,
             0.2,
             0.5,
             0.5,
             0.5
            ]
           },
           "type": "sankey"
          }
         ],
         "layout": {
          "title": {
           "text": "Baby's time management (Week 13) 🕥"
          }
         },
         "name": "13"
        },
        {
         "data": [
          {
           "arrangement": "snap",
           "link": {
            "source": [
             0,
             0,
             2,
             2
            ],
            "target": [
             1,
             2,
             3,
             4
            ],
            "value": [
             88,
             79,
             14,
             64
            ]
           },
           "node": {
            "align": "left",
            "label": [
             "Total Time",
             "Asleep (52%)",
             "Awake (47%)",
             "Feeding (8%)",
             "Partying (38%)"
            ],
            "line": {
             "color": "black",
             "width": 0.5
            },
            "pad": 15,
            "thickness": 20,
            "x": [
             0,
             0.5,
             0.5,
             1,
             1
            ],
            "y": [
             0.2,
             0.2,
             0.5,
             0.5,
             0.5
            ]
           },
           "type": "sankey"
          }
         ],
         "layout": {
          "title": {
           "text": "Baby's time management (Week 14) 🕥"
          }
         },
         "name": "14"
        },
        {
         "data": [
          {
           "arrangement": "snap",
           "link": {
            "source": [
             0,
             0,
             2,
             2
            ],
            "target": [
             1,
             2,
             3,
             4
            ],
            "value": [
             90,
             77,
             14,
             62
            ]
           },
           "node": {
            "align": "left",
            "label": [
             "Total Time",
             "Asleep (54%)",
             "Awake (46%)",
             "Feeding (8%)",
             "Partying (37%)"
            ],
            "line": {
             "color": "black",
             "width": 0.5
            },
            "pad": 15,
            "thickness": 20,
            "x": [
             0,
             0.5,
             0.5,
             1,
             1
            ],
            "y": [
             0.2,
             0.2,
             0.5,
             0.5,
             0.5
            ]
           },
           "type": "sankey"
          }
         ],
         "layout": {
          "title": {
           "text": "Baby's time management (Week 15) 🕥"
          }
         },
         "name": "15"
        },
        {
         "data": [
          {
           "arrangement": "snap",
           "link": {
            "source": [
             0,
             0,
             2,
             2
            ],
            "target": [
             1,
             2,
             3,
             4
            ],
            "value": [
             95,
             72,
             18,
             54
            ]
           },
           "node": {
            "align": "left",
            "label": [
             "Total Time",
             "Asleep (57%)",
             "Awake (43%)",
             "Feeding (11%)",
             "Partying (32%)"
            ],
            "line": {
             "color": "black",
             "width": 0.5
            },
            "pad": 15,
            "thickness": 20,
            "x": [
             0,
             0.5,
             0.5,
             1,
             1
            ],
            "y": [
             0.2,
             0.2,
             0.5,
             0.5,
             0.5
            ]
           },
           "type": "sankey"
          }
         ],
         "layout": {
          "title": {
           "text": "Baby's time management (Week 16) 🕥"
          }
         },
         "name": "16"
        },
        {
         "data": [
          {
           "arrangement": "snap",
           "link": {
            "source": [
             0,
             0,
             2,
             2
            ],
            "target": [
             1,
             2,
             3,
             4
            ],
            "value": [
             95,
             72,
             20,
             52
            ]
           },
           "node": {
            "align": "left",
            "label": [
             "Total Time",
             "Asleep (57%)",
             "Awake (43%)",
             "Feeding (12%)",
             "Partying (31%)"
            ],
            "line": {
             "color": "black",
             "width": 0.5
            },
            "pad": 15,
            "thickness": 20,
            "x": [
             0,
             0.5,
             0.5,
             1,
             1
            ],
            "y": [
             0.2,
             0.2,
             0.5,
             0.5,
             0.5
            ]
           },
           "type": "sankey"
          }
         ],
         "layout": {
          "title": {
           "text": "Baby's time management (Week 17) 🕥"
          }
         },
         "name": "17"
        },
        {
         "data": [
          {
           "arrangement": "snap",
           "link": {
            "source": [
             0,
             0,
             2,
             2
            ],
            "target": [
             1,
             2,
             3,
             4
            ],
            "value": [
             91,
             76,
             11,
             65
            ]
           },
           "node": {
            "align": "left",
            "label": [
             "Total Time",
             "Asleep (54%)",
             "Awake (45%)",
             "Feeding (7%)",
             "Partying (39%)"
            ],
            "line": {
             "color": "black",
             "width": 0.5
            },
            "pad": 15,
            "thickness": 20,
            "x": [
             0,
             0.5,
             0.5,
             1,
             1
            ],
            "y": [
             0.2,
             0.2,
             0.5,
             0.5,
             0.5
            ]
           },
           "type": "sankey"
          }
         ],
         "layout": {
          "title": {
           "text": "Baby's time management (Week 18) 🕥"
          }
         },
         "name": "18"
        },
        {
         "data": [
          {
           "arrangement": "snap",
           "link": {
            "source": [
             0,
             0,
             2,
             2
            ],
            "target": [
             1,
             2,
             3,
             4
            ],
            "value": [
             91,
             76,
             12,
             63
            ]
           },
           "node": {
            "align": "left",
            "label": [
             "Total Time",
             "Asleep (54%)",
             "Awake (45%)",
             "Feeding (7%)",
             "Partying (38%)"
            ],
            "line": {
             "color": "black",
             "width": 0.5
            },
            "pad": 15,
            "thickness": 20,
            "x": [
             0,
             0.5,
             0.5,
             1,
             1
            ],
            "y": [
             0.2,
             0.2,
             0.5,
             0.5,
             0.5
            ]
           },
           "type": "sankey"
          }
         ],
         "layout": {
          "title": {
           "text": "Baby's time management (Week 19) 🕥"
          }
         },
         "name": "19"
        },
        {
         "data": [
          {
           "arrangement": "snap",
           "link": {
            "source": [
             0,
             0,
             2,
             2
            ],
            "target": [
             1,
             2,
             3,
             4
            ],
            "value": [
             92,
             75,
             10,
             64
            ]
           },
           "node": {
            "align": "left",
            "label": [
             "Total Time",
             "Asleep (55%)",
             "Awake (45%)",
             "Feeding (6%)",
             "Partying (38%)"
            ],
            "line": {
             "color": "black",
             "width": 0.5
            },
            "pad": 15,
            "thickness": 20,
            "x": [
             0,
             0.5,
             0.5,
             1,
             1
            ],
            "y": [
             0.2,
             0.2,
             0.5,
             0.5,
             0.5
            ]
           },
           "type": "sankey"
          }
         ],
         "layout": {
          "title": {
           "text": "Baby's time management (Week 20) 🕥"
          }
         },
         "name": "20"
        },
        {
         "data": [
          {
           "arrangement": "snap",
           "link": {
            "source": [
             0,
             0,
             2,
             2
            ],
            "target": [
             1,
             2,
             3,
             4
            ],
            "value": [
             93,
             74,
             18,
             55
            ]
           },
           "node": {
            "align": "left",
            "label": [
             "Total Time",
             "Asleep (55%)",
             "Awake (44%)",
             "Feeding (11%)",
             "Partying (33%)"
            ],
            "line": {
             "color": "black",
             "width": 0.5
            },
            "pad": 15,
            "thickness": 20,
            "x": [
             0,
             0.5,
             0.5,
             1,
             1
            ],
            "y": [
             0.2,
             0.2,
             0.5,
             0.5,
             0.5
            ]
           },
           "type": "sankey"
          }
         ],
         "layout": {
          "title": {
           "text": "Baby's time management (Week 21) 🕥"
          }
         },
         "name": "21"
        }
       ],
       "layout": {
        "sliders": [
         {
          "active": 0,
          "currentvalue": {
           "font": {
            "size": 14
           },
           "prefix": "Week:",
           "visible": true,
           "xanchor": "right"
          },
          "len": 0.9,
          "pad": {
           "b": 10,
           "t": 50
          },
          "steps": [
           {
            "args": [
             [
              1
             ],
             {
              "frame": {
               "duration": 300,
               "redraw": true
              },
              "mode": "immediate",
              "transition": {
               "duration": 300
              }
             }
            ],
            "label": "1",
            "method": "animate"
           },
           {
            "args": [
             [
              2
             ],
             {
              "frame": {
               "duration": 300,
               "redraw": true
              },
              "mode": "immediate",
              "transition": {
               "duration": 300
              }
             }
            ],
            "label": "2",
            "method": "animate"
           },
           {
            "args": [
             [
              3
             ],
             {
              "frame": {
               "duration": 300,
               "redraw": true
              },
              "mode": "immediate",
              "transition": {
               "duration": 300
              }
             }
            ],
            "label": "3",
            "method": "animate"
           },
           {
            "args": [
             [
              4
             ],
             {
              "frame": {
               "duration": 300,
               "redraw": true
              },
              "mode": "immediate",
              "transition": {
               "duration": 300
              }
             }
            ],
            "label": "4",
            "method": "animate"
           },
           {
            "args": [
             [
              5
             ],
             {
              "frame": {
               "duration": 300,
               "redraw": true
              },
              "mode": "immediate",
              "transition": {
               "duration": 300
              }
             }
            ],
            "label": "5",
            "method": "animate"
           },
           {
            "args": [
             [
              6
             ],
             {
              "frame": {
               "duration": 300,
               "redraw": true
              },
              "mode": "immediate",
              "transition": {
               "duration": 300
              }
             }
            ],
            "label": "6",
            "method": "animate"
           },
           {
            "args": [
             [
              7
             ],
             {
              "frame": {
               "duration": 300,
               "redraw": true
              },
              "mode": "immediate",
              "transition": {
               "duration": 300
              }
             }
            ],
            "label": "7",
            "method": "animate"
           },
           {
            "args": [
             [
              8
             ],
             {
              "frame": {
               "duration": 300,
               "redraw": true
              },
              "mode": "immediate",
              "transition": {
               "duration": 300
              }
             }
            ],
            "label": "8",
            "method": "animate"
           },
           {
            "args": [
             [
              9
             ],
             {
              "frame": {
               "duration": 300,
               "redraw": true
              },
              "mode": "immediate",
              "transition": {
               "duration": 300
              }
             }
            ],
            "label": "9",
            "method": "animate"
           },
           {
            "args": [
             [
              10
             ],
             {
              "frame": {
               "duration": 300,
               "redraw": true
              },
              "mode": "immediate",
              "transition": {
               "duration": 300
              }
             }
            ],
            "label": "10",
            "method": "animate"
           },
           {
            "args": [
             [
              11
             ],
             {
              "frame": {
               "duration": 300,
               "redraw": true
              },
              "mode": "immediate",
              "transition": {
               "duration": 300
              }
             }
            ],
            "label": "11",
            "method": "animate"
           },
           {
            "args": [
             [
              12
             ],
             {
              "frame": {
               "duration": 300,
               "redraw": true
              },
              "mode": "immediate",
              "transition": {
               "duration": 300
              }
             }
            ],
            "label": "12",
            "method": "animate"
           },
           {
            "args": [
             [
              13
             ],
             {
              "frame": {
               "duration": 300,
               "redraw": true
              },
              "mode": "immediate",
              "transition": {
               "duration": 300
              }
             }
            ],
            "label": "13",
            "method": "animate"
           },
           {
            "args": [
             [
              14
             ],
             {
              "frame": {
               "duration": 300,
               "redraw": true
              },
              "mode": "immediate",
              "transition": {
               "duration": 300
              }
             }
            ],
            "label": "14",
            "method": "animate"
           },
           {
            "args": [
             [
              15
             ],
             {
              "frame": {
               "duration": 300,
               "redraw": true
              },
              "mode": "immediate",
              "transition": {
               "duration": 300
              }
             }
            ],
            "label": "15",
            "method": "animate"
           },
           {
            "args": [
             [
              16
             ],
             {
              "frame": {
               "duration": 300,
               "redraw": true
              },
              "mode": "immediate",
              "transition": {
               "duration": 300
              }
             }
            ],
            "label": "16",
            "method": "animate"
           },
           {
            "args": [
             [
              17
             ],
             {
              "frame": {
               "duration": 300,
               "redraw": true
              },
              "mode": "immediate",
              "transition": {
               "duration": 300
              }
             }
            ],
            "label": "17",
            "method": "animate"
           },
           {
            "args": [
             [
              18
             ],
             {
              "frame": {
               "duration": 300,
               "redraw": true
              },
              "mode": "immediate",
              "transition": {
               "duration": 300
              }
             }
            ],
            "label": "18",
            "method": "animate"
           },
           {
            "args": [
             [
              19
             ],
             {
              "frame": {
               "duration": 300,
               "redraw": true
              },
              "mode": "immediate",
              "transition": {
               "duration": 300
              }
             }
            ],
            "label": "19",
            "method": "animate"
           },
           {
            "args": [
             [
              20
             ],
             {
              "frame": {
               "duration": 300,
               "redraw": true
              },
              "mode": "immediate",
              "transition": {
               "duration": 300
              }
             }
            ],
            "label": "20",
            "method": "animate"
           },
           {
            "args": [
             [
              21
             ],
             {
              "frame": {
               "duration": 300,
               "redraw": true
              },
              "mode": "immediate",
              "transition": {
               "duration": 300
              }
             }
            ],
            "label": "21",
            "method": "animate"
           }
          ],
          "transition": {
           "duration": 300,
           "easing": "cubic-in-out"
          },
          "x": 0,
          "xanchor": "left",
          "y": 0,
          "yanchor": "top"
         }
        ],
        "template": {
         "data": {
          "bar": [
           {
            "error_x": {
             "color": "#2a3f5f"
            },
            "error_y": {
             "color": "#2a3f5f"
            },
            "marker": {
             "line": {
              "color": "#E5ECF6",
              "width": 0.5
             },
             "pattern": {
              "fillmode": "overlay",
              "size": 10,
              "solidity": 0.2
             }
            },
            "type": "bar"
           }
          ],
          "barpolar": [
           {
            "marker": {
             "line": {
              "color": "#E5ECF6",
              "width": 0.5
             },
             "pattern": {
              "fillmode": "overlay",
              "size": 10,
              "solidity": 0.2
             }
            },
            "type": "barpolar"
           }
          ],
          "carpet": [
           {
            "aaxis": {
             "endlinecolor": "#2a3f5f",
             "gridcolor": "white",
             "linecolor": "white",
             "minorgridcolor": "white",
             "startlinecolor": "#2a3f5f"
            },
            "baxis": {
             "endlinecolor": "#2a3f5f",
             "gridcolor": "white",
             "linecolor": "white",
             "minorgridcolor": "white",
             "startlinecolor": "#2a3f5f"
            },
            "type": "carpet"
           }
          ],
          "choropleth": [
           {
            "colorbar": {
             "outlinewidth": 0,
             "ticks": ""
            },
            "type": "choropleth"
           }
          ],
          "contour": [
           {
            "colorbar": {
             "outlinewidth": 0,
             "ticks": ""
            },
            "colorscale": [
             [
              0,
              "#0d0887"
             ],
             [
              0.1111111111111111,
              "#46039f"
             ],
             [
              0.2222222222222222,
              "#7201a8"
             ],
             [
              0.3333333333333333,
              "#9c179e"
             ],
             [
              0.4444444444444444,
              "#bd3786"
             ],
             [
              0.5555555555555556,
              "#d8576b"
             ],
             [
              0.6666666666666666,
              "#ed7953"
             ],
             [
              0.7777777777777778,
              "#fb9f3a"
             ],
             [
              0.8888888888888888,
              "#fdca26"
             ],
             [
              1,
              "#f0f921"
             ]
            ],
            "type": "contour"
           }
          ],
          "contourcarpet": [
           {
            "colorbar": {
             "outlinewidth": 0,
             "ticks": ""
            },
            "type": "contourcarpet"
           }
          ],
          "heatmap": [
           {
            "colorbar": {
             "outlinewidth": 0,
             "ticks": ""
            },
            "colorscale": [
             [
              0,
              "#0d0887"
             ],
             [
              0.1111111111111111,
              "#46039f"
             ],
             [
              0.2222222222222222,
              "#7201a8"
             ],
             [
              0.3333333333333333,
              "#9c179e"
             ],
             [
              0.4444444444444444,
              "#bd3786"
             ],
             [
              0.5555555555555556,
              "#d8576b"
             ],
             [
              0.6666666666666666,
              "#ed7953"
             ],
             [
              0.7777777777777778,
              "#fb9f3a"
             ],
             [
              0.8888888888888888,
              "#fdca26"
             ],
             [
              1,
              "#f0f921"
             ]
            ],
            "type": "heatmap"
           }
          ],
          "heatmapgl": [
           {
            "colorbar": {
             "outlinewidth": 0,
             "ticks": ""
            },
            "colorscale": [
             [
              0,
              "#0d0887"
             ],
             [
              0.1111111111111111,
              "#46039f"
             ],
             [
              0.2222222222222222,
              "#7201a8"
             ],
             [
              0.3333333333333333,
              "#9c179e"
             ],
             [
              0.4444444444444444,
              "#bd3786"
             ],
             [
              0.5555555555555556,
              "#d8576b"
             ],
             [
              0.6666666666666666,
              "#ed7953"
             ],
             [
              0.7777777777777778,
              "#fb9f3a"
             ],
             [
              0.8888888888888888,
              "#fdca26"
             ],
             [
              1,
              "#f0f921"
             ]
            ],
            "type": "heatmapgl"
           }
          ],
          "histogram": [
           {
            "marker": {
             "pattern": {
              "fillmode": "overlay",
              "size": 10,
              "solidity": 0.2
             }
            },
            "type": "histogram"
           }
          ],
          "histogram2d": [
           {
            "colorbar": {
             "outlinewidth": 0,
             "ticks": ""
            },
            "colorscale": [
             [
              0,
              "#0d0887"
             ],
             [
              0.1111111111111111,
              "#46039f"
             ],
             [
              0.2222222222222222,
              "#7201a8"
             ],
             [
              0.3333333333333333,
              "#9c179e"
             ],
             [
              0.4444444444444444,
              "#bd3786"
             ],
             [
              0.5555555555555556,
              "#d8576b"
             ],
             [
              0.6666666666666666,
              "#ed7953"
             ],
             [
              0.7777777777777778,
              "#fb9f3a"
             ],
             [
              0.8888888888888888,
              "#fdca26"
             ],
             [
              1,
              "#f0f921"
             ]
            ],
            "type": "histogram2d"
           }
          ],
          "histogram2dcontour": [
           {
            "colorbar": {
             "outlinewidth": 0,
             "ticks": ""
            },
            "colorscale": [
             [
              0,
              "#0d0887"
             ],
             [
              0.1111111111111111,
              "#46039f"
             ],
             [
              0.2222222222222222,
              "#7201a8"
             ],
             [
              0.3333333333333333,
              "#9c179e"
             ],
             [
              0.4444444444444444,
              "#bd3786"
             ],
             [
              0.5555555555555556,
              "#d8576b"
             ],
             [
              0.6666666666666666,
              "#ed7953"
             ],
             [
              0.7777777777777778,
              "#fb9f3a"
             ],
             [
              0.8888888888888888,
              "#fdca26"
             ],
             [
              1,
              "#f0f921"
             ]
            ],
            "type": "histogram2dcontour"
           }
          ],
          "mesh3d": [
           {
            "colorbar": {
             "outlinewidth": 0,
             "ticks": ""
            },
            "type": "mesh3d"
           }
          ],
          "parcoords": [
           {
            "line": {
             "colorbar": {
              "outlinewidth": 0,
              "ticks": ""
             }
            },
            "type": "parcoords"
           }
          ],
          "pie": [
           {
            "automargin": true,
            "type": "pie"
           }
          ],
          "scatter": [
           {
            "fillpattern": {
             "fillmode": "overlay",
             "size": 10,
             "solidity": 0.2
            },
            "type": "scatter"
           }
          ],
          "scatter3d": [
           {
            "line": {
             "colorbar": {
              "outlinewidth": 0,
              "ticks": ""
             }
            },
            "marker": {
             "colorbar": {
              "outlinewidth": 0,
              "ticks": ""
             }
            },
            "type": "scatter3d"
           }
          ],
          "scattercarpet": [
           {
            "marker": {
             "colorbar": {
              "outlinewidth": 0,
              "ticks": ""
             }
            },
            "type": "scattercarpet"
           }
          ],
          "scattergeo": [
           {
            "marker": {
             "colorbar": {
              "outlinewidth": 0,
              "ticks": ""
             }
            },
            "type": "scattergeo"
           }
          ],
          "scattergl": [
           {
            "marker": {
             "colorbar": {
              "outlinewidth": 0,
              "ticks": ""
             }
            },
            "type": "scattergl"
           }
          ],
          "scattermapbox": [
           {
            "marker": {
             "colorbar": {
              "outlinewidth": 0,
              "ticks": ""
             }
            },
            "type": "scattermapbox"
           }
          ],
          "scatterpolar": [
           {
            "marker": {
             "colorbar": {
              "outlinewidth": 0,
              "ticks": ""
             }
            },
            "type": "scatterpolar"
           }
          ],
          "scatterpolargl": [
           {
            "marker": {
             "colorbar": {
              "outlinewidth": 0,
              "ticks": ""
             }
            },
            "type": "scatterpolargl"
           }
          ],
          "scatterternary": [
           {
            "marker": {
             "colorbar": {
              "outlinewidth": 0,
              "ticks": ""
             }
            },
            "type": "scatterternary"
           }
          ],
          "surface": [
           {
            "colorbar": {
             "outlinewidth": 0,
             "ticks": ""
            },
            "colorscale": [
             [
              0,
              "#0d0887"
             ],
             [
              0.1111111111111111,
              "#46039f"
             ],
             [
              0.2222222222222222,
              "#7201a8"
             ],
             [
              0.3333333333333333,
              "#9c179e"
             ],
             [
              0.4444444444444444,
              "#bd3786"
             ],
             [
              0.5555555555555556,
              "#d8576b"
             ],
             [
              0.6666666666666666,
              "#ed7953"
             ],
             [
              0.7777777777777778,
              "#fb9f3a"
             ],
             [
              0.8888888888888888,
              "#fdca26"
             ],
             [
              1,
              "#f0f921"
             ]
            ],
            "type": "surface"
           }
          ],
          "table": [
           {
            "cells": {
             "fill": {
              "color": "#EBF0F8"
             },
             "line": {
              "color": "white"
             }
            },
            "header": {
             "fill": {
              "color": "#C8D4E3"
             },
             "line": {
              "color": "white"
             }
            },
            "type": "table"
           }
          ]
         },
         "layout": {
          "annotationdefaults": {
           "arrowcolor": "#2a3f5f",
           "arrowhead": 0,
           "arrowwidth": 1
          },
          "autotypenumbers": "strict",
          "coloraxis": {
           "colorbar": {
            "outlinewidth": 0,
            "ticks": ""
           }
          },
          "colorscale": {
           "diverging": [
            [
             0,
             "#8e0152"
            ],
            [
             0.1,
             "#c51b7d"
            ],
            [
             0.2,
             "#de77ae"
            ],
            [
             0.3,
             "#f1b6da"
            ],
            [
             0.4,
             "#fde0ef"
            ],
            [
             0.5,
             "#f7f7f7"
            ],
            [
             0.6,
             "#e6f5d0"
            ],
            [
             0.7,
             "#b8e186"
            ],
            [
             0.8,
             "#7fbc41"
            ],
            [
             0.9,
             "#4d9221"
            ],
            [
             1,
             "#276419"
            ]
           ],
           "sequential": [
            [
             0,
             "#0d0887"
            ],
            [
             0.1111111111111111,
             "#46039f"
            ],
            [
             0.2222222222222222,
             "#7201a8"
            ],
            [
             0.3333333333333333,
             "#9c179e"
            ],
            [
             0.4444444444444444,
             "#bd3786"
            ],
            [
             0.5555555555555556,
             "#d8576b"
            ],
            [
             0.6666666666666666,
             "#ed7953"
            ],
            [
             0.7777777777777778,
             "#fb9f3a"
            ],
            [
             0.8888888888888888,
             "#fdca26"
            ],
            [
             1,
             "#f0f921"
            ]
           ],
           "sequentialminus": [
            [
             0,
             "#0d0887"
            ],
            [
             0.1111111111111111,
             "#46039f"
            ],
            [
             0.2222222222222222,
             "#7201a8"
            ],
            [
             0.3333333333333333,
             "#9c179e"
            ],
            [
             0.4444444444444444,
             "#bd3786"
            ],
            [
             0.5555555555555556,
             "#d8576b"
            ],
            [
             0.6666666666666666,
             "#ed7953"
            ],
            [
             0.7777777777777778,
             "#fb9f3a"
            ],
            [
             0.8888888888888888,
             "#fdca26"
            ],
            [
             1,
             "#f0f921"
            ]
           ]
          },
          "colorway": [
           "#636efa",
           "#EF553B",
           "#00cc96",
           "#ab63fa",
           "#FFA15A",
           "#19d3f3",
           "#FF6692",
           "#B6E880",
           "#FF97FF",
           "#FECB52"
          ],
          "font": {
           "color": "#2a3f5f"
          },
          "geo": {
           "bgcolor": "white",
           "lakecolor": "white",
           "landcolor": "#E5ECF6",
           "showlakes": true,
           "showland": true,
           "subunitcolor": "white"
          },
          "hoverlabel": {
           "align": "left"
          },
          "hovermode": "closest",
          "mapbox": {
           "style": "light"
          },
          "paper_bgcolor": "white",
          "plot_bgcolor": "#E5ECF6",
          "polar": {
           "angularaxis": {
            "gridcolor": "white",
            "linecolor": "white",
            "ticks": ""
           },
           "bgcolor": "#E5ECF6",
           "radialaxis": {
            "gridcolor": "white",
            "linecolor": "white",
            "ticks": ""
           }
          },
          "scene": {
           "xaxis": {
            "backgroundcolor": "#E5ECF6",
            "gridcolor": "white",
            "gridwidth": 2,
            "linecolor": "white",
            "showbackground": true,
            "ticks": "",
            "zerolinecolor": "white"
           },
           "yaxis": {
            "backgroundcolor": "#E5ECF6",
            "gridcolor": "white",
            "gridwidth": 2,
            "linecolor": "white",
            "showbackground": true,
            "ticks": "",
            "zerolinecolor": "white"
           },
           "zaxis": {
            "backgroundcolor": "#E5ECF6",
            "gridcolor": "white",
            "gridwidth": 2,
            "linecolor": "white",
            "showbackground": true,
            "ticks": "",
            "zerolinecolor": "white"
           }
          },
          "shapedefaults": {
           "line": {
            "color": "#2a3f5f"
           }
          },
          "ternary": {
           "aaxis": {
            "gridcolor": "white",
            "linecolor": "white",
            "ticks": ""
           },
           "baxis": {
            "gridcolor": "white",
            "linecolor": "white",
            "ticks": ""
           },
           "bgcolor": "#E5ECF6",
           "caxis": {
            "gridcolor": "white",
            "linecolor": "white",
            "ticks": ""
           }
          },
          "title": {
           "x": 0.05
          },
          "xaxis": {
           "automargin": true,
           "gridcolor": "white",
           "linecolor": "white",
           "ticks": "",
           "title": {
            "standoff": 15
           },
           "zerolinecolor": "white",
           "zerolinewidth": 2
          },
          "yaxis": {
           "automargin": true,
           "gridcolor": "white",
           "linecolor": "white",
           "ticks": "",
           "title": {
            "standoff": 15
           },
           "zerolinecolor": "white",
           "zerolinewidth": 2
          }
         }
        },
        "title": {
         "text": "Baby's time management (Week 1) 🕥"
        },
        "updatemenus": [
         {
          "buttons": [
           {
            "args": [
             null,
             {
              "frame": {
               "duration": 600,
               "redraw": true
              },
              "fromcurrent": true,
              "transition": {
               "duration": 0,
               "easing": "quadratic-in-out"
              }
             }
            ],
            "label": "▶",
            "method": "animate"
           },
           {
            "args": [
             [
              null
             ],
             {
              "frame": {
               "duration": 0,
               "redraw": false
              },
              "mode": "immediate",
              "transition": {
               "duration": 0
              }
             }
            ],
            "label": "⏸",
            "method": "animate"
           }
          ],
          "direction": "left",
          "pad": {
           "r": 10,
           "t": 87
          },
          "showactive": false,
          "type": "buttons",
          "x": 0.08,
          "xanchor": "right",
          "y": 0.3,
          "yanchor": "top"
         }
        ]
       }
      }
     },
     "metadata": {},
     "output_type": "display_data"
    }
   ],
   "source": [
    "fig = go.Figure(data=createFrame(1)['data'],\n",
    "layout=go.Layout(\n",
    "  title=f'Baby\\'s time management (Week 1) 🕥',\n",
    "  updatemenus=[dict(\n",
    "            type=\"buttons\",\n",
    "            buttons=[dict(label=\"▶\",\n",
    "                          method=\"animate\",\n",
    "                          args=[None, {\"frame\": {\"duration\": 600, \"redraw\": True},\n",
    "                                \"fromcurrent\": True, \"transition\": {\"duration\": 0,\n",
    "                                                                    \"easing\": \"quadratic-in-out\"}}]),\n",
    "                    dict(label=\"⏸\",\n",
    "                          method=\"animate\",\n",
    "                          args=[[None], {\"frame\": {\"duration\": 0, \"redraw\": False},\n",
    "                                \"mode\": \"immediate\", \"transition\": {\"duration\": 0}}])],\n",
    "            direction= \"left\",\n",
    "        pad= {\"r\": 10, \"t\": 87},\n",
    "        showactive= False,\n",
    "        x= 0.08,\n",
    "        xanchor=\"right\",\n",
    "        y= 0.3,\n",
    "        yanchor= \"top\")],\n",
    "  sliders=[dict(\n",
    "      active=0,\n",
    "      yanchor='top',\n",
    "      xanchor='left',\n",
    "      x= 0,\n",
    "      y= 0,\n",
    "      currentvalue= {\n",
    "        \"font\": {\"size\": 14},\n",
    "        \"prefix\": \"Week:\",\n",
    "        \"visible\": True,\n",
    "        \"xanchor\": \"right\"\n",
    "    },\n",
    "      transition= {\"duration\": 300, \"easing\": \"cubic-in-out\"},\n",
    "      pad= {\"b\": 10, \"t\": 50},\n",
    "      len= 0.9,\n",
    "      steps = slider_steps\n",
    "  )]\n",
    "),\n",
    "frames=frames\n",
    ")\n",
    "fig.show()"
   ]
  },
  {
   "cell_type": "code",
   "execution_count": 31,
   "metadata": {},
   "outputs": [],
   "source": [
    "df_feeding_hours = pd.DataFrame({ 'week': range(0, 26, 1)});\n",
    "df_feeding_hours['feeding'] = (df_feeding[['duration','start']].groupby(pd.Grouper(key='start', freq='1W')).sum().reset_index())['duration'].map(lambda x: x.total_seconds()/3600);\n",
    "\n",
    "df_feeding_hours = df_feeding_hours.tail(-1);\n",
    "df_feeding_hours['Date'] = df_feeding_hours['week'].apply(lambda x: pd.to_datetime('2023-08-15', format='%Y-%m-%d') + pd.Timedelta(f\"{(x-1)*7}D\"))"
   ]
  },
  {
   "cell_type": "code",
   "execution_count": 32,
   "metadata": {},
   "outputs": [
    {
     "data": {
      "image/png": "[encoded data removed]"
     },
     "metadata": {},
     "output_type": "display_data"
    }
   ],
   "source": [
    "fig = px.line(df_feeding_hours, x='Date', y='feeding', markers=True, title='Feeding Hours per Week 🍼');\n",
    "fig.update_layout(xaxis_title='Week',\n",
    "                   yaxis_title='Feeding time (hours)');\n",
    "fig.show('png');"
   ]
  },
  {
   "cell_type": "markdown",
   "metadata": {},
   "source": [
    "## Diaper analysis\n"
   ]
  },
  {
   "cell_type": "markdown",
   "metadata": {},
   "source": [
    "Sum the number of solid diapers per day and then calculate the average per week:\n"
   ]
  },
  {
   "cell_type": "code",
   "execution_count": 33,
   "metadata": {},
   "outputs": [],
   "source": [
    "df_poops_per_day = df_diaper[['solid', 'time']].groupby(pd.Grouper(key='time', freq='1D')).sum().reset_index()\n",
    "df_poops_per_week_avg = df_poops_per_day.groupby(pd.Grouper(key='time', freq='7D')).mean().reset_index()"
   ]
  },
  {
   "cell_type": "code",
   "execution_count": 34,
   "metadata": {},
   "outputs": [
    {
     "data": {
      "text/html": [
       "<div>\n",
       "<style scoped>\n",
       "    .dataframe tbody tr th:only-of-type {\n",
       "        vertical-align: middle;\n",
       "    }\n",
       "\n",
       "    .dataframe tbody tr th {\n",
       "        vertical-align: top;\n",
       "    }\n",
       "\n",
       "    .dataframe thead th {\n",
       "        text-align: right;\n",
       "    }\n",
       "</style>\n",
       "<table border=\"1\" class=\"dataframe\">\n",
       "  <thead>\n",
       "    <tr style=\"text-align: right;\">\n",
       "      <th></th>\n",
       "      <th>time</th>\n",
       "      <th>solid</th>\n",
       "    </tr>\n",
       "  </thead>\n",
       "  <tbody>\n",
       "    <tr>\n",
       "      <th>0</th>\n",
       "      <td>2023-08-15</td>\n",
       "      <td>3.857143</td>\n",
       "    </tr>\n",
       "    <tr>\n",
       "      <th>1</th>\n",
       "      <td>2023-08-22</td>\n",
       "      <td>5.714286</td>\n",
       "    </tr>\n",
       "    <tr>\n",
       "      <th>2</th>\n",
       "      <td>2023-08-29</td>\n",
       "      <td>2.571429</td>\n",
       "    </tr>\n",
       "    <tr>\n",
       "      <th>3</th>\n",
       "      <td>2023-09-05</td>\n",
       "      <td>0.857143</td>\n",
       "    </tr>\n",
       "    <tr>\n",
       "      <th>4</th>\n",
       "      <td>2023-09-12</td>\n",
       "      <td>1.428571</td>\n",
       "    </tr>\n",
       "  </tbody>\n",
       "</table>\n",
       "</div>"
      ],
      "text/plain": [
       "        time     solid\n",
       "0 2023-08-15  3.857143\n",
       "1 2023-08-22  5.714286\n",
       "2 2023-08-29  2.571429\n",
       "3 2023-09-05  0.857143\n",
       "4 2023-09-12  1.428571"
      ]
     },
     "execution_count": 34,
     "metadata": {},
     "output_type": "execute_result"
    }
   ],
   "source": [
    "df_poops_per_week_avg.head()"
   ]
  },
  {
   "cell_type": "markdown",
   "metadata": {},
   "source": [
    "Plot the data on a bar chart:\n"
   ]
  },
  {
   "cell_type": "code",
   "execution_count": 35,
   "metadata": {},
   "outputs": [
    {
     "data": {
      "image/png": "[encoded data removed]"
     },
     "metadata": {},
     "output_type": "display_data"
    }
   ],
   "source": [
    "x = df_poops_per_week_avg['time']\n",
    "y = df_poops_per_week_avg['solid']\n",
    "\n",
    "fig = go.Figure()\n",
    "fig.add_trace(go.Bar(\n",
    "                    y=y,\n",
    "                    x=x,\n",
    "              marker_color='#7A5901'\n",
    "))\n",
    "fig.update_layout(bargap=0.2, title_text='Average poops per day 💩', yaxis_title='Average bowel movements',\n",
    "                   xaxis_title='Week')\n",
    "fig.show('png')"
   ]
  },
  {
   "cell_type": "markdown",
   "metadata": {},
   "source": [
    "## Sleep Analysis"
   ]
  },
  {
   "cell_type": "code",
   "execution_count": 36,
   "metadata": {},
   "outputs": [],
   "source": [
    "def weekTimeToDate(week: int, day: int, time: datetime.time):\n",
    "    startDate = pd.to_datetime('2023-09-06', format='%Y-%m-%d');\n",
    "    return startDate + pd.Timedelta(f'{(week-1)*7 + day}D') + pd.Timedelta(time);"
   ]
  },
  {
   "cell_type": "code",
   "execution_count": 37,
   "metadata": {},
   "outputs": [],
   "source": [
    "def is_asleep(week: int, day: int, time: str):\n",
    "    intervalStartTime = weekTimeToDate(week, day, time);\n",
    "    intervalEndTime = weekTimeToDate(week, day, pd.Timedelta(time) + pd.Timedelta('00:29:00'));\n",
    "\n",
    "    for index, row in df_sleep.iterrows():\n",
    "        # If the interval is during the sleep window, we count it\n",
    "        if (row['start'] <= intervalStartTime) and (row['end'] >= intervalEndTime):\n",
    "            return 1;\n",
    "        # If the nap is completely contained within an interval window, we still count it\n",
    "        if (intervalStartTime >= row['start']) and (intervalEndTime <= row['end']):\n",
    "            return 1;\n",
    "        # If the nap was started during the interval, we count half\n",
    "        if (intervalStartTime >= row['start']) and (intervalStartTime <= row['end']):\n",
    "            return 0.5;\n",
    "        # If the nap ended during the interval, we count half\n",
    "        if (intervalEndTime >= row['start']) and (intervalEndTime <= row['end']):\n",
    "            return 0.5;\n",
    "    return 0;"
   ]
  },
  {
   "cell_type": "code",
   "execution_count": 38,
   "metadata": {},
   "outputs": [],
   "source": [
    "rows = [];\n",
    "\n",
    "for week in range(1, 22, 1):\n",
    "    for day in range(0, 7, 1):\n",
    "        for timestamp in pd.date_range(\"00:00\", \"23:30\", freq=\"30min\").time:\n",
    "            rows.append([week, timestamp, is_asleep(week, day, timestamp.strftime('%H:%M:%S'))]);\n",
    "\n",
    "df_sleep_times = pd.DataFrame(rows, columns=['Week', 'Time', 'Asleep']);"
   ]
  },
  {
   "cell_type": "code",
   "execution_count": 39,
   "metadata": {},
   "outputs": [],
   "source": [
    "df_sleep_times['Date'] = df_sleep_times['Week'].apply(lambda x: pd.to_datetime('2023-09-05', format='%Y-%m-%d') + pd.Timedelta(f\"{(x-1)*7}D\"))"
   ]
  },
  {
   "cell_type": "code",
   "execution_count": 40,
   "metadata": {},
   "outputs": [
    {
     "data": {
      "image/png": "[encoded data removed]"
     },
     "metadata": {},
     "output_type": "display_data"
    }
   ],
   "source": [
    "fig = px.density_heatmap(df_sleep_times, x=\"Time\", y=\"Date\", z=\"Asleep\", histfunc=\"avg\", nbinsy=21);\n",
    "fig.update_layout(title_text='Was baby asleep at a given time? 😴', yaxis_title='Week',\n",
    "                   xaxis_title='Time of day')\n",
    "fig.show('png')"
   ]
  }
 ],
 "metadata": {
  "kernelspec": {
   "display_name": "Python 3",
   "language": "python",
   "name": "python3"
  },
  "language_info": {
   "codemirror_mode": {
    "name": "ipython",
    "version": 3
   },
   "file_extension": ".py",
   "mimetype": "text/x-python",
   "name": "python",
   "nbconvert_exporter": "python",
   "pygments_lexer": "ipython3",
   "version": "3.12.0"
  }
 },
 "nbformat": 4,
 "nbformat_minor": 4
}
