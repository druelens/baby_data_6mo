{
 "cells": [
  {
   "cell_type": "markdown",
   "metadata": {},
   "source": [
    "# 6 month data analysis\n"
   ]
  },
  {
   "cell_type": "code",
   "execution_count": 436,
   "metadata": {},
   "outputs": [],
   "source": [
    "import pandas as pd;\n",
    "from datetime import timedelta;\n",
    "import plotly.graph_objects as go;\n"
   ]
  },
  {
   "cell_type": "markdown",
   "metadata": {},
   "source": [
    "## Importing data from Baby Buddy\n"
   ]
  },
  {
   "cell_type": "markdown",
   "metadata": {},
   "source": [
    "Import all .csv data sets exported from the [Baby Buddy](https://github.com/babybuddy/babybuddy) app:\n"
   ]
  },
  {
   "cell_type": "code",
   "execution_count": 437,
   "metadata": {},
   "outputs": [],
   "source": [
    "df_sleep = pd.read_csv('data/sleep.csv');\n",
    "df_feeding = pd.read_csv('data/feeding.csv');\n",
    "df_diaper = pd.read_csv('data/diaper.csv');\n",
    "df_weight = pd.read_csv('data/weight.csv');"
   ]
  },
  {
   "cell_type": "markdown",
   "metadata": {},
   "source": [
    "Transform all date string to Date type:\n"
   ]
  },
  {
   "cell_type": "code",
   "execution_count": 438,
   "metadata": {},
   "outputs": [],
   "source": [
    "df_sleep['start'] = pd.to_datetime(df_sleep['start'], format='%d/%m/%Y %H:%M');\n",
    "df_sleep['end'] = pd.to_datetime(df_sleep['end'], format='%d/%m/%Y %H:%M');\n",
    "df_feeding['start'] = pd.to_datetime(df_feeding['start'], format='%d/%m/%Y %H:%M');\n",
    "df_feeding['end'] = pd.to_datetime(df_feeding['end'], format='%d/%m/%Y %H:%M');\n",
    "df_diaper['time'] = pd.to_datetime(df_diaper['time'], format='%d/%m/%Y %H:%M');\n",
    "df_weight['date'] = pd.to_datetime(df_weight['date'], format='%d/%m/%Y');"
   ]
  },
  {
   "cell_type": "markdown",
   "metadata": {},
   "source": [
    "Remove any data points more recent than the 6 month mark:\n"
   ]
  },
  {
   "cell_type": "code",
   "execution_count": 439,
   "metadata": {},
   "outputs": [],
   "source": [
    "df_sleep.drop(df_sleep[df_sleep.start >= '2024-02-15'].index, inplace=True);\n",
    "df_feeding.drop(df_feeding[df_feeding.start >= '2024-02-15'].index, inplace=True);\n",
    "df_diaper.drop(df_diaper[df_diaper.time >= '2024-02-15'].index, inplace=True);\n",
    "df_weight.drop(df_weight[df_weight.date >= '2024-02-15'].index, inplace=True);"
   ]
  },
  {
   "cell_type": "markdown",
   "metadata": {},
   "source": [
    "Add duration columns:\n"
   ]
  },
  {
   "cell_type": "code",
   "execution_count": 440,
   "metadata": {},
   "outputs": [],
   "source": [
    "df_sleep['duration'] = df_sleep['end'] - df_sleep['start'];\n",
    "df_feeding['duration'] = df_feeding['end'] - df_feeding['start'];"
   ]
  },
  {
   "cell_type": "markdown",
   "metadata": {},
   "source": [
    "## Time Analysis\n"
   ]
  },
  {
   "cell_type": "markdown",
   "metadata": {},
   "source": [
    "Total time of 6 months since baby was born is 184 days. Unfortunately we only have sleep data since the 5th of September, which is 163 days:\n"
   ]
  },
  {
   "cell_type": "code",
   "execution_count": 441,
   "metadata": {},
   "outputs": [],
   "source": [
    "total_time = pd.to_timedelta(24*7, 'h');\n",
    "time_asleep = df_sleep[['start','duration']].groupby(pd.Grouper(key='start', freq='1W')).sum().reset_index();\n",
    "time_asleep['awake'] = total_time - time_asleep['duration'];\n",
    "\n",
    "time_feeding = df_feeding[['start','duration']].groupby(pd.Grouper(key='start', freq='1W')).sum().reset_index();\n",
    "time_feeding['partying'] = time_asleep['awake'] - time_feeding['duration'];"
   ]
  },
  {
   "cell_type": "code",
   "execution_count": 442,
   "metadata": {},
   "outputs": [],
   "source": [
    "time_asleep = time_asleep[1:-1];\n",
    "time_feeding = time_feeding[1:-1];"
   ]
  },
  {
   "cell_type": "code",
   "execution_count": 443,
   "metadata": {},
   "outputs": [],
   "source": [
    "def createFrame(week):\n",
    "    total_hours = 24*7;\n",
    "    asleep_hours = time_asleep.loc[week]['duration'].total_seconds()//3600;\n",
    "    awake_hours = time_asleep.loc[week]['awake'].total_seconds()//3600;\n",
    "    feeding_hours = time_feeding.loc[week]['duration'].total_seconds()//3600;\n",
    "    partying_hours = time_feeding.loc[week]['partying'].total_seconds()//3600;\n",
    "\n",
    "    pct_asleep = f\"{asleep_hours / total_hours:.0%}\";\n",
    "    pct_awake = f\"{awake_hours / total_hours:.0%}\";\n",
    "    pct_feeding = f\"{feeding_hours / total_hours:.0%}\";\n",
    "    pct_partying = f\"{partying_hours / total_hours:.0%}\";\n",
    "\n",
    "\n",
    "    return {\"data\": [go.Sankey(\n",
    "    arrangement='snap',\n",
    "    # Define nodes\n",
    "    node = dict(\n",
    "      pad = 15,\n",
    "      thickness = 20,\n",
    "      line = dict(color = \"black\", width = 0.5),\n",
    "      label =  [\n",
    "          f'Total Time', \n",
    "          f'Asleep ({pct_asleep})', \n",
    "          f'Awake ({pct_awake})', \n",
    "          f'Feeding ({pct_feeding})', \n",
    "          f'Partying ({pct_partying})'],\n",
    "      x= [0, 0.5, 0.5, 1, 1],\n",
    "      y = [0.2, 0.2, 0.5, 0.5, 0.5],\n",
    "      align = 'left'\n",
    "    ),\n",
    "    # Add links\n",
    "    link = dict(\n",
    "      source =  [0, 0, 2, 2],\n",
    "      target =  [1, 2, 3, 4],\n",
    "      value =  [\n",
    "          asleep_hours,\n",
    "          awake_hours, \n",
    "          feeding_hours, \n",
    "          partying_hours\n",
    "        ]\n",
    "))],\n",
    "\"layout\": go.Layout(\n",
    "  title=f'Baby\\'s time management (Week {week}) 🕥')}"
   ]
  },
  {
   "cell_type": "code",
   "execution_count": 444,
   "metadata": {},
   "outputs": [],
   "source": [
    "frames = [];\n",
    "for week in range(1,len(time_asleep)):\n",
    "    frames.append(go.Frame(createFrame(week)))"
   ]
  },
  {
   "cell_type": "code",
   "execution_count": 445,
   "metadata": {},
   "outputs": [
    {
     "data": {
      "application/vnd.plotly.v1+json": {
       "config": {
        "plotlyServerURL": "https://plot.ly"
       },
       "data": [
        {
         "arrangement": "snap",
         "link": {
          "source": [
           0,
           0,
           2,
           2
          ],
          "target": [
           1,
           2,
           3,
           4
          ],
          "value": [
           92,
           75,
           26,
           48
          ]
         },
         "node": {
          "align": "left",
          "label": [
           "Total Time",
           "Asleep (55%)",
           "Awake (45%)",
           "Feeding (15%)",
           "Partying (29%)"
          ],
          "line": {
           "color": "black",
           "width": 0.5
          },
          "pad": 15,
          "thickness": 20,
          "x": [
           0,
           0.5,
           0.5,
           1,
           1
          ],
          "y": [
           0.2,
           0.2,
           0.5,
           0.5,
           0.5
          ]
         },
         "type": "sankey"
        }
       ],
       "frames": [
        {
         "data": [
          {
           "arrangement": "snap",
           "link": {
            "source": [
             0,
             0,
             2,
             2
            ],
            "target": [
             1,
             2,
             3,
             4
            ],
            "value": [
             92,
             75,
             26,
             48
            ]
           },
           "node": {
            "align": "left",
            "label": [
             "Total Time",
             "Asleep (55%)",
             "Awake (45%)",
             "Feeding (15%)",
             "Partying (29%)"
            ],
            "line": {
             "color": "black",
             "width": 0.5
            },
            "pad": 15,
            "thickness": 20,
            "x": [
             0,
             0.5,
             0.5,
             1,
             1
            ],
            "y": [
             0.2,
             0.2,
             0.5,
             0.5,
             0.5
            ]
           },
           "type": "sankey"
          }
         ],
         "layout": {
          "title": {
           "text": "Baby's time management (Week 1) 🕥"
          }
         }
        },
        {
         "data": [
          {
           "arrangement": "snap",
           "link": {
            "source": [
             0,
             0,
             2,
             2
            ],
            "target": [
             1,
             2,
             3,
             4
            ],
            "value": [
             91,
             76,
             20,
             55
            ]
           },
           "node": {
            "align": "left",
            "label": [
             "Total Time",
             "Asleep (54%)",
             "Awake (45%)",
             "Feeding (12%)",
             "Partying (33%)"
            ],
            "line": {
             "color": "black",
             "width": 0.5
            },
            "pad": 15,
            "thickness": 20,
            "x": [
             0,
             0.5,
             0.5,
             1,
             1
            ],
            "y": [
             0.2,
             0.2,
             0.5,
             0.5,
             0.5
            ]
           },
           "type": "sankey"
          }
         ],
         "layout": {
          "title": {
           "text": "Baby's time management (Week 2) 🕥"
          }
         }
        },
        {
         "data": [
          {
           "arrangement": "snap",
           "link": {
            "source": [
             0,
             0,
             2,
             2
            ],
            "target": [
             1,
             2,
             3,
             4
            ],
            "value": [
             85,
             82,
             15,
             66
            ]
           },
           "node": {
            "align": "left",
            "label": [
             "Total Time",
             "Asleep (51%)",
             "Awake (49%)",
             "Feeding (9%)",
             "Partying (39%)"
            ],
            "line": {
             "color": "black",
             "width": 0.5
            },
            "pad": 15,
            "thickness": 20,
            "x": [
             0,
             0.5,
             0.5,
             1,
             1
            ],
            "y": [
             0.2,
             0.2,
             0.5,
             0.5,
             0.5
            ]
           },
           "type": "sankey"
          }
         ],
         "layout": {
          "title": {
           "text": "Baby's time management (Week 3) 🕥"
          }
         }
        },
        {
         "data": [
          {
           "arrangement": "snap",
           "link": {
            "source": [
             0,
             0,
             2,
             2
            ],
            "target": [
             1,
             2,
             3,
             4
            ],
            "value": [
             85,
             82,
             17,
             64
            ]
           },
           "node": {
            "align": "left",
            "label": [
             "Total Time",
             "Asleep (51%)",
             "Awake (49%)",
             "Feeding (10%)",
             "Partying (38%)"
            ],
            "line": {
             "color": "black",
             "width": 0.5
            },
            "pad": 15,
            "thickness": 20,
            "x": [
             0,
             0.5,
             0.5,
             1,
             1
            ],
            "y": [
             0.2,
             0.2,
             0.5,
             0.5,
             0.5
            ]
           },
           "type": "sankey"
          }
         ],
         "layout": {
          "title": {
           "text": "Baby's time management (Week 4) 🕥"
          }
         }
        },
        {
         "data": [
          {
           "arrangement": "snap",
           "link": {
            "source": [
             0,
             0,
             2,
             2
            ],
            "target": [
             1,
             2,
             3,
             4
            ],
            "value": [
             84,
             83,
             16,
             66
            ]
           },
           "node": {
            "align": "left",
            "label": [
             "Total Time",
             "Asleep (50%)",
             "Awake (49%)",
             "Feeding (10%)",
             "Partying (39%)"
            ],
            "line": {
             "color": "black",
             "width": 0.5
            },
            "pad": 15,
            "thickness": 20,
            "x": [
             0,
             0.5,
             0.5,
             1,
             1
            ],
            "y": [
             0.2,
             0.2,
             0.5,
             0.5,
             0.5
            ]
           },
           "type": "sankey"
          }
         ],
         "layout": {
          "title": {
           "text": "Baby's time management (Week 5) 🕥"
          }
         }
        },
        {
         "data": [
          {
           "arrangement": "snap",
           "link": {
            "source": [
             0,
             0,
             2,
             2
            ],
            "target": [
             1,
             2,
             3,
             4
            ],
            "value": [
             87,
             80,
             30,
             50
            ]
           },
           "node": {
            "align": "left",
            "label": [
             "Total Time",
             "Asleep (52%)",
             "Awake (48%)",
             "Feeding (18%)",
             "Partying (30%)"
            ],
            "line": {
             "color": "black",
             "width": 0.5
            },
            "pad": 15,
            "thickness": 20,
            "x": [
             0,
             0.5,
             0.5,
             1,
             1
            ],
            "y": [
             0.2,
             0.2,
             0.5,
             0.5,
             0.5
            ]
           },
           "type": "sankey"
          }
         ],
         "layout": {
          "title": {
           "text": "Baby's time management (Week 6) 🕥"
          }
         }
        },
        {
         "data": [
          {
           "arrangement": "snap",
           "link": {
            "source": [
             0,
             0,
             2,
             2
            ],
            "target": [
             1,
             2,
             3,
             4
            ],
            "value": [
             93,
             74,
             29,
             44
            ]
           },
           "node": {
            "align": "left",
            "label": [
             "Total Time",
             "Asleep (55%)",
             "Awake (44%)",
             "Feeding (17%)",
             "Partying (26%)"
            ],
            "line": {
             "color": "black",
             "width": 0.5
            },
            "pad": 15,
            "thickness": 20,
            "x": [
             0,
             0.5,
             0.5,
             1,
             1
            ],
            "y": [
             0.2,
             0.2,
             0.5,
             0.5,
             0.5
            ]
           },
           "type": "sankey"
          }
         ],
         "layout": {
          "title": {
           "text": "Baby's time management (Week 7) 🕥"
          }
         }
        },
        {
         "data": [
          {
           "arrangement": "snap",
           "link": {
            "source": [
             0,
             0,
             2,
             2
            ],
            "target": [
             1,
             2,
             3,
             4
            ],
            "value": [
             93,
             74,
             25,
             49
            ]
           },
           "node": {
            "align": "left",
            "label": [
             "Total Time",
             "Asleep (55%)",
             "Awake (44%)",
             "Feeding (15%)",
             "Partying (29%)"
            ],
            "line": {
             "color": "black",
             "width": 0.5
            },
            "pad": 15,
            "thickness": 20,
            "x": [
             0,
             0.5,
             0.5,
             1,
             1
            ],
            "y": [
             0.2,
             0.2,
             0.5,
             0.5,
             0.5
            ]
           },
           "type": "sankey"
          }
         ],
         "layout": {
          "title": {
           "text": "Baby's time management (Week 8) 🕥"
          }
         }
        },
        {
         "data": [
          {
           "arrangement": "snap",
           "link": {
            "source": [
             0,
             0,
             2,
             2
            ],
            "target": [
             1,
             2,
             3,
             4
            ],
            "value": [
             94,
             73,
             18,
             55
            ]
           },
           "node": {
            "align": "left",
            "label": [
             "Total Time",
             "Asleep (56%)",
             "Awake (43%)",
             "Feeding (11%)",
             "Partying (33%)"
            ],
            "line": {
             "color": "black",
             "width": 0.5
            },
            "pad": 15,
            "thickness": 20,
            "x": [
             0,
             0.5,
             0.5,
             1,
             1
            ],
            "y": [
             0.2,
             0.2,
             0.5,
             0.5,
             0.5
            ]
           },
           "type": "sankey"
          }
         ],
         "layout": {
          "title": {
           "text": "Baby's time management (Week 9) 🕥"
          }
         }
        },
        {
         "data": [
          {
           "arrangement": "snap",
           "link": {
            "source": [
             0,
             0,
             2,
             2
            ],
            "target": [
             1,
             2,
             3,
             4
            ],
            "value": [
             93,
             74,
             15,
             59
            ]
           },
           "node": {
            "align": "left",
            "label": [
             "Total Time",
             "Asleep (55%)",
             "Awake (44%)",
             "Feeding (9%)",
             "Partying (35%)"
            ],
            "line": {
             "color": "black",
             "width": 0.5
            },
            "pad": 15,
            "thickness": 20,
            "x": [
             0,
             0.5,
             0.5,
             1,
             1
            ],
            "y": [
             0.2,
             0.2,
             0.5,
             0.5,
             0.5
            ]
           },
           "type": "sankey"
          }
         ],
         "layout": {
          "title": {
           "text": "Baby's time management (Week 10) 🕥"
          }
         }
        },
        {
         "data": [
          {
           "arrangement": "snap",
           "link": {
            "source": [
             0,
             0,
             2,
             2
            ],
            "target": [
             1,
             2,
             3,
             4
            ],
            "value": [
             94,
             73,
             15,
             57
            ]
           },
           "node": {
            "align": "left",
            "label": [
             "Total Time",
             "Asleep (56%)",
             "Awake (43%)",
             "Feeding (9%)",
             "Partying (34%)"
            ],
            "line": {
             "color": "black",
             "width": 0.5
            },
            "pad": 15,
            "thickness": 20,
            "x": [
             0,
             0.5,
             0.5,
             1,
             1
            ],
            "y": [
             0.2,
             0.2,
             0.5,
             0.5,
             0.5
            ]
           },
           "type": "sankey"
          }
         ],
         "layout": {
          "title": {
           "text": "Baby's time management (Week 11) 🕥"
          }
         }
        },
        {
         "data": [
          {
           "arrangement": "snap",
           "link": {
            "source": [
             0,
             0,
             2,
             2
            ],
            "target": [
             1,
             2,
             3,
             4
            ],
            "value": [
             92,
             75,
             15,
             60
            ]
           },
           "node": {
            "align": "left",
            "label": [
             "Total Time",
             "Asleep (55%)",
             "Awake (45%)",
             "Feeding (9%)",
             "Partying (36%)"
            ],
            "line": {
             "color": "black",
             "width": 0.5
            },
            "pad": 15,
            "thickness": 20,
            "x": [
             0,
             0.5,
             0.5,
             1,
             1
            ],
            "y": [
             0.2,
             0.2,
             0.5,
             0.5,
             0.5
            ]
           },
           "type": "sankey"
          }
         ],
         "layout": {
          "title": {
           "text": "Baby's time management (Week 12) 🕥"
          }
         }
        },
        {
         "data": [
          {
           "arrangement": "snap",
           "link": {
            "source": [
             0,
             0,
             2,
             2
            ],
            "target": [
             1,
             2,
             3,
             4
            ],
            "value": [
             90,
             77,
             15,
             61
            ]
           },
           "node": {
            "align": "left",
            "label": [
             "Total Time",
             "Asleep (54%)",
             "Awake (46%)",
             "Feeding (9%)",
             "Partying (36%)"
            ],
            "line": {
             "color": "black",
             "width": 0.5
            },
            "pad": 15,
            "thickness": 20,
            "x": [
             0,
             0.5,
             0.5,
             1,
             1
            ],
            "y": [
             0.2,
             0.2,
             0.5,
             0.5,
             0.5
            ]
           },
           "type": "sankey"
          }
         ],
         "layout": {
          "title": {
           "text": "Baby's time management (Week 13) 🕥"
          }
         }
        },
        {
         "data": [
          {
           "arrangement": "snap",
           "link": {
            "source": [
             0,
             0,
             2,
             2
            ],
            "target": [
             1,
             2,
             3,
             4
            ],
            "value": [
             88,
             79,
             14,
             64
            ]
           },
           "node": {
            "align": "left",
            "label": [
             "Total Time",
             "Asleep (52%)",
             "Awake (47%)",
             "Feeding (8%)",
             "Partying (38%)"
            ],
            "line": {
             "color": "black",
             "width": 0.5
            },
            "pad": 15,
            "thickness": 20,
            "x": [
             0,
             0.5,
             0.5,
             1,
             1
            ],
            "y": [
             0.2,
             0.2,
             0.5,
             0.5,
             0.5
            ]
           },
           "type": "sankey"
          }
         ],
         "layout": {
          "title": {
           "text": "Baby's time management (Week 14) 🕥"
          }
         }
        },
        {
         "data": [
          {
           "arrangement": "snap",
           "link": {
            "source": [
             0,
             0,
             2,
             2
            ],
            "target": [
             1,
             2,
             3,
             4
            ],
            "value": [
             90,
             77,
             14,
             62
            ]
           },
           "node": {
            "align": "left",
            "label": [
             "Total Time",
             "Asleep (54%)",
             "Awake (46%)",
             "Feeding (8%)",
             "Partying (37%)"
            ],
            "line": {
             "color": "black",
             "width": 0.5
            },
            "pad": 15,
            "thickness": 20,
            "x": [
             0,
             0.5,
             0.5,
             1,
             1
            ],
            "y": [
             0.2,
             0.2,
             0.5,
             0.5,
             0.5
            ]
           },
           "type": "sankey"
          }
         ],
         "layout": {
          "title": {
           "text": "Baby's time management (Week 15) 🕥"
          }
         }
        },
        {
         "data": [
          {
           "arrangement": "snap",
           "link": {
            "source": [
             0,
             0,
             2,
             2
            ],
            "target": [
             1,
             2,
             3,
             4
            ],
            "value": [
             95,
             72,
             18,
             54
            ]
           },
           "node": {
            "align": "left",
            "label": [
             "Total Time",
             "Asleep (57%)",
             "Awake (43%)",
             "Feeding (11%)",
             "Partying (32%)"
            ],
            "line": {
             "color": "black",
             "width": 0.5
            },
            "pad": 15,
            "thickness": 20,
            "x": [
             0,
             0.5,
             0.5,
             1,
             1
            ],
            "y": [
             0.2,
             0.2,
             0.5,
             0.5,
             0.5
            ]
           },
           "type": "sankey"
          }
         ],
         "layout": {
          "title": {
           "text": "Baby's time management (Week 16) 🕥"
          }
         }
        },
        {
         "data": [
          {
           "arrangement": "snap",
           "link": {
            "source": [
             0,
             0,
             2,
             2
            ],
            "target": [
             1,
             2,
             3,
             4
            ],
            "value": [
             95,
             72,
             20,
             52
            ]
           },
           "node": {
            "align": "left",
            "label": [
             "Total Time",
             "Asleep (57%)",
             "Awake (43%)",
             "Feeding (12%)",
             "Partying (31%)"
            ],
            "line": {
             "color": "black",
             "width": 0.5
            },
            "pad": 15,
            "thickness": 20,
            "x": [
             0,
             0.5,
             0.5,
             1,
             1
            ],
            "y": [
             0.2,
             0.2,
             0.5,
             0.5,
             0.5
            ]
           },
           "type": "sankey"
          }
         ],
         "layout": {
          "title": {
           "text": "Baby's time management (Week 17) 🕥"
          }
         }
        },
        {
         "data": [
          {
           "arrangement": "snap",
           "link": {
            "source": [
             0,
             0,
             2,
             2
            ],
            "target": [
             1,
             2,
             3,
             4
            ],
            "value": [
             91,
             76,
             11,
             65
            ]
           },
           "node": {
            "align": "left",
            "label": [
             "Total Time",
             "Asleep (54%)",
             "Awake (45%)",
             "Feeding (7%)",
             "Partying (39%)"
            ],
            "line": {
             "color": "black",
             "width": 0.5
            },
            "pad": 15,
            "thickness": 20,
            "x": [
             0,
             0.5,
             0.5,
             1,
             1
            ],
            "y": [
             0.2,
             0.2,
             0.5,
             0.5,
             0.5
            ]
           },
           "type": "sankey"
          }
         ],
         "layout": {
          "title": {
           "text": "Baby's time management (Week 18) 🕥"
          }
         }
        },
        {
         "data": [
          {
           "arrangement": "snap",
           "link": {
            "source": [
             0,
             0,
             2,
             2
            ],
            "target": [
             1,
             2,
             3,
             4
            ],
            "value": [
             91,
             76,
             12,
             63
            ]
           },
           "node": {
            "align": "left",
            "label": [
             "Total Time",
             "Asleep (54%)",
             "Awake (45%)",
             "Feeding (7%)",
             "Partying (38%)"
            ],
            "line": {
             "color": "black",
             "width": 0.5
            },
            "pad": 15,
            "thickness": 20,
            "x": [
             0,
             0.5,
             0.5,
             1,
             1
            ],
            "y": [
             0.2,
             0.2,
             0.5,
             0.5,
             0.5
            ]
           },
           "type": "sankey"
          }
         ],
         "layout": {
          "title": {
           "text": "Baby's time management (Week 19) 🕥"
          }
         }
        },
        {
         "data": [
          {
           "arrangement": "snap",
           "link": {
            "source": [
             0,
             0,
             2,
             2
            ],
            "target": [
             1,
             2,
             3,
             4
            ],
            "value": [
             92,
             75,
             10,
             64
            ]
           },
           "node": {
            "align": "left",
            "label": [
             "Total Time",
             "Asleep (55%)",
             "Awake (45%)",
             "Feeding (6%)",
             "Partying (38%)"
            ],
            "line": {
             "color": "black",
             "width": 0.5
            },
            "pad": 15,
            "thickness": 20,
            "x": [
             0,
             0.5,
             0.5,
             1,
             1
            ],
            "y": [
             0.2,
             0.2,
             0.5,
             0.5,
             0.5
            ]
           },
           "type": "sankey"
          }
         ],
         "layout": {
          "title": {
           "text": "Baby's time management (Week 20) 🕥"
          }
         }
        },
        {
         "data": [
          {
           "arrangement": "snap",
           "link": {
            "source": [
             0,
             0,
             2,
             2
            ],
            "target": [
             1,
             2,
             3,
             4
            ],
            "value": [
             93,
             74,
             18,
             55
            ]
           },
           "node": {
            "align": "left",
            "label": [
             "Total Time",
             "Asleep (55%)",
             "Awake (44%)",
             "Feeding (11%)",
             "Partying (33%)"
            ],
            "line": {
             "color": "black",
             "width": 0.5
            },
            "pad": 15,
            "thickness": 20,
            "x": [
             0,
             0.5,
             0.5,
             1,
             1
            ],
            "y": [
             0.2,
             0.2,
             0.5,
             0.5,
             0.5
            ]
           },
           "type": "sankey"
          }
         ],
         "layout": {
          "title": {
           "text": "Baby's time management (Week 21) 🕥"
          }
         }
        }
       ],
       "layout": {
        "template": {
         "data": {
          "bar": [
           {
            "error_x": {
             "color": "#2a3f5f"
            },
            "error_y": {
             "color": "#2a3f5f"
            },
            "marker": {
             "line": {
              "color": "#E5ECF6",
              "width": 0.5
             },
             "pattern": {
              "fillmode": "overlay",
              "size": 10,
              "solidity": 0.2
             }
            },
            "type": "bar"
           }
          ],
          "barpolar": [
           {
            "marker": {
             "line": {
              "color": "#E5ECF6",
              "width": 0.5
             },
             "pattern": {
              "fillmode": "overlay",
              "size": 10,
              "solidity": 0.2
             }
            },
            "type": "barpolar"
           }
          ],
          "carpet": [
           {
            "aaxis": {
             "endlinecolor": "#2a3f5f",
             "gridcolor": "white",
             "linecolor": "white",
             "minorgridcolor": "white",
             "startlinecolor": "#2a3f5f"
            },
            "baxis": {
             "endlinecolor": "#2a3f5f",
             "gridcolor": "white",
             "linecolor": "white",
             "minorgridcolor": "white",
             "startlinecolor": "#2a3f5f"
            },
            "type": "carpet"
           }
          ],
          "choropleth": [
           {
            "colorbar": {
             "outlinewidth": 0,
             "ticks": ""
            },
            "type": "choropleth"
           }
          ],
          "contour": [
           {
            "colorbar": {
             "outlinewidth": 0,
             "ticks": ""
            },
            "colorscale": [
             [
              0,
              "#0d0887"
             ],
             [
              0.1111111111111111,
              "#46039f"
             ],
             [
              0.2222222222222222,
              "#7201a8"
             ],
             [
              0.3333333333333333,
              "#9c179e"
             ],
             [
              0.4444444444444444,
              "#bd3786"
             ],
             [
              0.5555555555555556,
              "#d8576b"
             ],
             [
              0.6666666666666666,
              "#ed7953"
             ],
             [
              0.7777777777777778,
              "#fb9f3a"
             ],
             [
              0.8888888888888888,
              "#fdca26"
             ],
             [
              1,
              "#f0f921"
             ]
            ],
            "type": "contour"
           }
          ],
          "contourcarpet": [
           {
            "colorbar": {
             "outlinewidth": 0,
             "ticks": ""
            },
            "type": "contourcarpet"
           }
          ],
          "heatmap": [
           {
            "colorbar": {
             "outlinewidth": 0,
             "ticks": ""
            },
            "colorscale": [
             [
              0,
              "#0d0887"
             ],
             [
              0.1111111111111111,
              "#46039f"
             ],
             [
              0.2222222222222222,
              "#7201a8"
             ],
             [
              0.3333333333333333,
              "#9c179e"
             ],
             [
              0.4444444444444444,
              "#bd3786"
             ],
             [
              0.5555555555555556,
              "#d8576b"
             ],
             [
              0.6666666666666666,
              "#ed7953"
             ],
             [
              0.7777777777777778,
              "#fb9f3a"
             ],
             [
              0.8888888888888888,
              "#fdca26"
             ],
             [
              1,
              "#f0f921"
             ]
            ],
            "type": "heatmap"
           }
          ],
          "heatmapgl": [
           {
            "colorbar": {
             "outlinewidth": 0,
             "ticks": ""
            },
            "colorscale": [
             [
              0,
              "#0d0887"
             ],
             [
              0.1111111111111111,
              "#46039f"
             ],
             [
              0.2222222222222222,
              "#7201a8"
             ],
             [
              0.3333333333333333,
              "#9c179e"
             ],
             [
              0.4444444444444444,
              "#bd3786"
             ],
             [
              0.5555555555555556,
              "#d8576b"
             ],
             [
              0.6666666666666666,
              "#ed7953"
             ],
             [
              0.7777777777777778,
              "#fb9f3a"
             ],
             [
              0.8888888888888888,
              "#fdca26"
             ],
             [
              1,
              "#f0f921"
             ]
            ],
            "type": "heatmapgl"
           }
          ],
          "histogram": [
           {
            "marker": {
             "pattern": {
              "fillmode": "overlay",
              "size": 10,
              "solidity": 0.2
             }
            },
            "type": "histogram"
           }
          ],
          "histogram2d": [
           {
            "colorbar": {
             "outlinewidth": 0,
             "ticks": ""
            },
            "colorscale": [
             [
              0,
              "#0d0887"
             ],
             [
              0.1111111111111111,
              "#46039f"
             ],
             [
              0.2222222222222222,
              "#7201a8"
             ],
             [
              0.3333333333333333,
              "#9c179e"
             ],
             [
              0.4444444444444444,
              "#bd3786"
             ],
             [
              0.5555555555555556,
              "#d8576b"
             ],
             [
              0.6666666666666666,
              "#ed7953"
             ],
             [
              0.7777777777777778,
              "#fb9f3a"
             ],
             [
              0.8888888888888888,
              "#fdca26"
             ],
             [
              1,
              "#f0f921"
             ]
            ],
            "type": "histogram2d"
           }
          ],
          "histogram2dcontour": [
           {
            "colorbar": {
             "outlinewidth": 0,
             "ticks": ""
            },
            "colorscale": [
             [
              0,
              "#0d0887"
             ],
             [
              0.1111111111111111,
              "#46039f"
             ],
             [
              0.2222222222222222,
              "#7201a8"
             ],
             [
              0.3333333333333333,
              "#9c179e"
             ],
             [
              0.4444444444444444,
              "#bd3786"
             ],
             [
              0.5555555555555556,
              "#d8576b"
             ],
             [
              0.6666666666666666,
              "#ed7953"
             ],
             [
              0.7777777777777778,
              "#fb9f3a"
             ],
             [
              0.8888888888888888,
              "#fdca26"
             ],
             [
              1,
              "#f0f921"
             ]
            ],
            "type": "histogram2dcontour"
           }
          ],
          "mesh3d": [
           {
            "colorbar": {
             "outlinewidth": 0,
             "ticks": ""
            },
            "type": "mesh3d"
           }
          ],
          "parcoords": [
           {
            "line": {
             "colorbar": {
              "outlinewidth": 0,
              "ticks": ""
             }
            },
            "type": "parcoords"
           }
          ],
          "pie": [
           {
            "automargin": true,
            "type": "pie"
           }
          ],
          "scatter": [
           {
            "fillpattern": {
             "fillmode": "overlay",
             "size": 10,
             "solidity": 0.2
            },
            "type": "scatter"
           }
          ],
          "scatter3d": [
           {
            "line": {
             "colorbar": {
              "outlinewidth": 0,
              "ticks": ""
             }
            },
            "marker": {
             "colorbar": {
              "outlinewidth": 0,
              "ticks": ""
             }
            },
            "type": "scatter3d"
           }
          ],
          "scattercarpet": [
           {
            "marker": {
             "colorbar": {
              "outlinewidth": 0,
              "ticks": ""
             }
            },
            "type": "scattercarpet"
           }
          ],
          "scattergeo": [
           {
            "marker": {
             "colorbar": {
              "outlinewidth": 0,
              "ticks": ""
             }
            },
            "type": "scattergeo"
           }
          ],
          "scattergl": [
           {
            "marker": {
             "colorbar": {
              "outlinewidth": 0,
              "ticks": ""
             }
            },
            "type": "scattergl"
           }
          ],
          "scattermapbox": [
           {
            "marker": {
             "colorbar": {
              "outlinewidth": 0,
              "ticks": ""
             }
            },
            "type": "scattermapbox"
           }
          ],
          "scatterpolar": [
           {
            "marker": {
             "colorbar": {
              "outlinewidth": 0,
              "ticks": ""
             }
            },
            "type": "scatterpolar"
           }
          ],
          "scatterpolargl": [
           {
            "marker": {
             "colorbar": {
              "outlinewidth": 0,
              "ticks": ""
             }
            },
            "type": "scatterpolargl"
           }
          ],
          "scatterternary": [
           {
            "marker": {
             "colorbar": {
              "outlinewidth": 0,
              "ticks": ""
             }
            },
            "type": "scatterternary"
           }
          ],
          "surface": [
           {
            "colorbar": {
             "outlinewidth": 0,
             "ticks": ""
            },
            "colorscale": [
             [
              0,
              "#0d0887"
             ],
             [
              0.1111111111111111,
              "#46039f"
             ],
             [
              0.2222222222222222,
              "#7201a8"
             ],
             [
              0.3333333333333333,
              "#9c179e"
             ],
             [
              0.4444444444444444,
              "#bd3786"
             ],
             [
              0.5555555555555556,
              "#d8576b"
             ],
             [
              0.6666666666666666,
              "#ed7953"
             ],
             [
              0.7777777777777778,
              "#fb9f3a"
             ],
             [
              0.8888888888888888,
              "#fdca26"
             ],
             [
              1,
              "#f0f921"
             ]
            ],
            "type": "surface"
           }
          ],
          "table": [
           {
            "cells": {
             "fill": {
              "color": "#EBF0F8"
             },
             "line": {
              "color": "white"
             }
            },
            "header": {
             "fill": {
              "color": "#C8D4E3"
             },
             "line": {
              "color": "white"
             }
            },
            "type": "table"
           }
          ]
         },
         "layout": {
          "annotationdefaults": {
           "arrowcolor": "#2a3f5f",
           "arrowhead": 0,
           "arrowwidth": 1
          },
          "autotypenumbers": "strict",
          "coloraxis": {
           "colorbar": {
            "outlinewidth": 0,
            "ticks": ""
           }
          },
          "colorscale": {
           "diverging": [
            [
             0,
             "#8e0152"
            ],
            [
             0.1,
             "#c51b7d"
            ],
            [
             0.2,
             "#de77ae"
            ],
            [
             0.3,
             "#f1b6da"
            ],
            [
             0.4,
             "#fde0ef"
            ],
            [
             0.5,
             "#f7f7f7"
            ],
            [
             0.6,
             "#e6f5d0"
            ],
            [
             0.7,
             "#b8e186"
            ],
            [
             0.8,
             "#7fbc41"
            ],
            [
             0.9,
             "#4d9221"
            ],
            [
             1,
             "#276419"
            ]
           ],
           "sequential": [
            [
             0,
             "#0d0887"
            ],
            [
             0.1111111111111111,
             "#46039f"
            ],
            [
             0.2222222222222222,
             "#7201a8"
            ],
            [
             0.3333333333333333,
             "#9c179e"
            ],
            [
             0.4444444444444444,
             "#bd3786"
            ],
            [
             0.5555555555555556,
             "#d8576b"
            ],
            [
             0.6666666666666666,
             "#ed7953"
            ],
            [
             0.7777777777777778,
             "#fb9f3a"
            ],
            [
             0.8888888888888888,
             "#fdca26"
            ],
            [
             1,
             "#f0f921"
            ]
           ],
           "sequentialminus": [
            [
             0,
             "#0d0887"
            ],
            [
             0.1111111111111111,
             "#46039f"
            ],
            [
             0.2222222222222222,
             "#7201a8"
            ],
            [
             0.3333333333333333,
             "#9c179e"
            ],
            [
             0.4444444444444444,
             "#bd3786"
            ],
            [
             0.5555555555555556,
             "#d8576b"
            ],
            [
             0.6666666666666666,
             "#ed7953"
            ],
            [
             0.7777777777777778,
             "#fb9f3a"
            ],
            [
             0.8888888888888888,
             "#fdca26"
            ],
            [
             1,
             "#f0f921"
            ]
           ]
          },
          "colorway": [
           "#636efa",
           "#EF553B",
           "#00cc96",
           "#ab63fa",
           "#FFA15A",
           "#19d3f3",
           "#FF6692",
           "#B6E880",
           "#FF97FF",
           "#FECB52"
          ],
          "font": {
           "color": "#2a3f5f"
          },
          "geo": {
           "bgcolor": "white",
           "lakecolor": "white",
           "landcolor": "#E5ECF6",
           "showlakes": true,
           "showland": true,
           "subunitcolor": "white"
          },
          "hoverlabel": {
           "align": "left"
          },
          "hovermode": "closest",
          "mapbox": {
           "style": "light"
          },
          "paper_bgcolor": "white",
          "plot_bgcolor": "#E5ECF6",
          "polar": {
           "angularaxis": {
            "gridcolor": "white",
            "linecolor": "white",
            "ticks": ""
           },
           "bgcolor": "#E5ECF6",
           "radialaxis": {
            "gridcolor": "white",
            "linecolor": "white",
            "ticks": ""
           }
          },
          "scene": {
           "xaxis": {
            "backgroundcolor": "#E5ECF6",
            "gridcolor": "white",
            "gridwidth": 2,
            "linecolor": "white",
            "showbackground": true,
            "ticks": "",
            "zerolinecolor": "white"
           },
           "yaxis": {
            "backgroundcolor": "#E5ECF6",
            "gridcolor": "white",
            "gridwidth": 2,
            "linecolor": "white",
            "showbackground": true,
            "ticks": "",
            "zerolinecolor": "white"
           },
           "zaxis": {
            "backgroundcolor": "#E5ECF6",
            "gridcolor": "white",
            "gridwidth": 2,
            "linecolor": "white",
            "showbackground": true,
            "ticks": "",
            "zerolinecolor": "white"
           }
          },
          "shapedefaults": {
           "line": {
            "color": "#2a3f5f"
           }
          },
          "ternary": {
           "aaxis": {
            "gridcolor": "white",
            "linecolor": "white",
            "ticks": ""
           },
           "baxis": {
            "gridcolor": "white",
            "linecolor": "white",
            "ticks": ""
           },
           "bgcolor": "#E5ECF6",
           "caxis": {
            "gridcolor": "white",
            "linecolor": "white",
            "ticks": ""
           }
          },
          "title": {
           "x": 0.05
          },
          "xaxis": {
           "automargin": true,
           "gridcolor": "white",
           "linecolor": "white",
           "ticks": "",
           "title": {
            "standoff": 15
           },
           "zerolinecolor": "white",
           "zerolinewidth": 2
          },
          "yaxis": {
           "automargin": true,
           "gridcolor": "white",
           "linecolor": "white",
           "ticks": "",
           "title": {
            "standoff": 15
           },
           "zerolinecolor": "white",
           "zerolinewidth": 2
          }
         }
        },
        "title": {
         "text": "Baby's time management (Week 1) 🕥"
        },
        "updatemenus": [
         {
          "buttons": [
           {
            "args": [
             null,
             {
              "frame": {
               "duration": 600,
               "redraw": true
              },
              "fromcurrent": true,
              "transition": {
               "duration": 0,
               "easing": "quadratic-in-out"
              }
             }
            ],
            "label": "Play",
            "method": "animate"
           }
          ],
          "type": "buttons"
         }
        ]
       }
      }
     },
     "metadata": {},
     "output_type": "display_data"
    }
   ],
   "source": [
    "fig = go.Figure(data=createFrame(1)['data'],\n",
    "layout=go.Layout(\n",
    "  title=f'Baby\\'s time management (Week 1) 🕥',\n",
    "  updatemenus=[dict(\n",
    "            type=\"buttons\",\n",
    "            buttons=[dict(label=\"Play\",\n",
    "                          method=\"animate\",\n",
    "                          args=[None, {\"frame\": {\"duration\": 600, \"redraw\": True},\n",
    "                                \"fromcurrent\": True, \"transition\": {\"duration\": 0,\n",
    "                                                                    \"easing\": \"quadratic-in-out\"}}])])]\n",
    "),\n",
    "frames=frames\n",
    ")\n",
    "fig.show()"
   ]
  },
  {
   "cell_type": "markdown",
   "metadata": {},
   "source": [
    "## Diaper analysis\n"
   ]
  },
  {
   "cell_type": "markdown",
   "metadata": {},
   "source": [
    "Sum the number of solid diapers per day and then calculate the average per week:\n"
   ]
  },
  {
   "cell_type": "code",
   "execution_count": 446,
   "metadata": {},
   "outputs": [],
   "source": [
    "df_poops_per_day = df_diaper[['solid', 'time']].groupby(pd.Grouper(key='time', freq='1D')).sum().reset_index()\n",
    "df_poops_per_week_avg = df_poops_per_day.groupby(pd.Grouper(key='time', freq='7D')).mean().reset_index()"
   ]
  },
  {
   "cell_type": "code",
   "execution_count": 447,
   "metadata": {},
   "outputs": [
    {
     "data": {
      "text/html": [
       "<div>\n",
       "<style scoped>\n",
       "    .dataframe tbody tr th:only-of-type {\n",
       "        vertical-align: middle;\n",
       "    }\n",
       "\n",
       "    .dataframe tbody tr th {\n",
       "        vertical-align: top;\n",
       "    }\n",
       "\n",
       "    .dataframe thead th {\n",
       "        text-align: right;\n",
       "    }\n",
       "</style>\n",
       "<table border=\"1\" class=\"dataframe\">\n",
       "  <thead>\n",
       "    <tr style=\"text-align: right;\">\n",
       "      <th></th>\n",
       "      <th>time</th>\n",
       "      <th>solid</th>\n",
       "    </tr>\n",
       "  </thead>\n",
       "  <tbody>\n",
       "    <tr>\n",
       "      <th>0</th>\n",
       "      <td>2023-08-15</td>\n",
       "      <td>3.857143</td>\n",
       "    </tr>\n",
       "    <tr>\n",
       "      <th>1</th>\n",
       "      <td>2023-08-22</td>\n",
       "      <td>5.714286</td>\n",
       "    </tr>\n",
       "    <tr>\n",
       "      <th>2</th>\n",
       "      <td>2023-08-29</td>\n",
       "      <td>2.571429</td>\n",
       "    </tr>\n",
       "    <tr>\n",
       "      <th>3</th>\n",
       "      <td>2023-09-05</td>\n",
       "      <td>0.857143</td>\n",
       "    </tr>\n",
       "    <tr>\n",
       "      <th>4</th>\n",
       "      <td>2023-09-12</td>\n",
       "      <td>1.428571</td>\n",
       "    </tr>\n",
       "  </tbody>\n",
       "</table>\n",
       "</div>"
      ],
      "text/plain": [
       "        time     solid\n",
       "0 2023-08-15  3.857143\n",
       "1 2023-08-22  5.714286\n",
       "2 2023-08-29  2.571429\n",
       "3 2023-09-05  0.857143\n",
       "4 2023-09-12  1.428571"
      ]
     },
     "execution_count": 447,
     "metadata": {},
     "output_type": "execute_result"
    }
   ],
   "source": [
    "df_poops_per_week_avg.head()"
   ]
  },
  {
   "cell_type": "markdown",
   "metadata": {},
   "source": [
    "Plot the data on a bar chart:\n"
   ]
  },
  {
   "cell_type": "code",
   "execution_count": 448,
   "metadata": {},
   "outputs": [
    {
     "data": {
      "application/vnd.plotly.v1+json": {
       "config": {
        "plotlyServerURL": "https://plot.ly"
       },
       "data": [
        {
         "marker": {
          "color": "#7A5901"
         },
         "type": "bar",
         "x": [
          "2023-08-15T00:00:00",
          "2023-08-22T00:00:00",
          "2023-08-29T00:00:00",
          "2023-09-05T00:00:00",
          "2023-09-12T00:00:00",
          "2023-09-19T00:00:00",
          "2023-09-26T00:00:00",
          "2023-10-03T00:00:00",
          "2023-10-10T00:00:00",
          "2023-10-17T00:00:00",
          "2023-10-24T00:00:00",
          "2023-10-31T00:00:00",
          "2023-11-07T00:00:00",
          "2023-11-14T00:00:00",
          "2023-11-21T00:00:00",
          "2023-11-28T00:00:00",
          "2023-12-05T00:00:00",
          "2023-12-12T00:00:00",
          "2023-12-19T00:00:00",
          "2023-12-26T00:00:00",
          "2024-01-02T00:00:00",
          "2024-01-09T00:00:00",
          "2024-01-16T00:00:00",
          "2024-01-23T00:00:00",
          "2024-01-30T00:00:00",
          "2024-02-06T00:00:00",
          "2024-02-13T00:00:00"
         ],
         "y": [
          3.857142857142857,
          5.714285714285714,
          2.5714285714285716,
          0.8571428571428571,
          1.4285714285714286,
          2.2857142857142856,
          2,
          3,
          2.142857142857143,
          0.7142857142857143,
          1.8571428571428572,
          0.8571428571428571,
          1.4285714285714286,
          1.2857142857142858,
          0.7142857142857143,
          0.7142857142857143,
          1,
          0.5714285714285714,
          0.2857142857142857,
          0.42857142857142855,
          0.8571428571428571,
          1,
          1.2857142857142858,
          1,
          3.7142857142857144,
          3.7142857142857144,
          3.5
         ]
        }
       ],
       "layout": {
        "bargap": 0.2,
        "template": {
         "data": {
          "bar": [
           {
            "error_x": {
             "color": "#2a3f5f"
            },
            "error_y": {
             "color": "#2a3f5f"
            },
            "marker": {
             "line": {
              "color": "#E5ECF6",
              "width": 0.5
             },
             "pattern": {
              "fillmode": "overlay",
              "size": 10,
              "solidity": 0.2
             }
            },
            "type": "bar"
           }
          ],
          "barpolar": [
           {
            "marker": {
             "line": {
              "color": "#E5ECF6",
              "width": 0.5
             },
             "pattern": {
              "fillmode": "overlay",
              "size": 10,
              "solidity": 0.2
             }
            },
            "type": "barpolar"
           }
          ],
          "carpet": [
           {
            "aaxis": {
             "endlinecolor": "#2a3f5f",
             "gridcolor": "white",
             "linecolor": "white",
             "minorgridcolor": "white",
             "startlinecolor": "#2a3f5f"
            },
            "baxis": {
             "endlinecolor": "#2a3f5f",
             "gridcolor": "white",
             "linecolor": "white",
             "minorgridcolor": "white",
             "startlinecolor": "#2a3f5f"
            },
            "type": "carpet"
           }
          ],
          "choropleth": [
           {
            "colorbar": {
             "outlinewidth": 0,
             "ticks": ""
            },
            "type": "choropleth"
           }
          ],
          "contour": [
           {
            "colorbar": {
             "outlinewidth": 0,
             "ticks": ""
            },
            "colorscale": [
             [
              0,
              "#0d0887"
             ],
             [
              0.1111111111111111,
              "#46039f"
             ],
             [
              0.2222222222222222,
              "#7201a8"
             ],
             [
              0.3333333333333333,
              "#9c179e"
             ],
             [
              0.4444444444444444,
              "#bd3786"
             ],
             [
              0.5555555555555556,
              "#d8576b"
             ],
             [
              0.6666666666666666,
              "#ed7953"
             ],
             [
              0.7777777777777778,
              "#fb9f3a"
             ],
             [
              0.8888888888888888,
              "#fdca26"
             ],
             [
              1,
              "#f0f921"
             ]
            ],
            "type": "contour"
           }
          ],
          "contourcarpet": [
           {
            "colorbar": {
             "outlinewidth": 0,
             "ticks": ""
            },
            "type": "contourcarpet"
           }
          ],
          "heatmap": [
           {
            "colorbar": {
             "outlinewidth": 0,
             "ticks": ""
            },
            "colorscale": [
             [
              0,
              "#0d0887"
             ],
             [
              0.1111111111111111,
              "#46039f"
             ],
             [
              0.2222222222222222,
              "#7201a8"
             ],
             [
              0.3333333333333333,
              "#9c179e"
             ],
             [
              0.4444444444444444,
              "#bd3786"
             ],
             [
              0.5555555555555556,
              "#d8576b"
             ],
             [
              0.6666666666666666,
              "#ed7953"
             ],
             [
              0.7777777777777778,
              "#fb9f3a"
             ],
             [
              0.8888888888888888,
              "#fdca26"
             ],
             [
              1,
              "#f0f921"
             ]
            ],
            "type": "heatmap"
           }
          ],
          "heatmapgl": [
           {
            "colorbar": {
             "outlinewidth": 0,
             "ticks": ""
            },
            "colorscale": [
             [
              0,
              "#0d0887"
             ],
             [
              0.1111111111111111,
              "#46039f"
             ],
             [
              0.2222222222222222,
              "#7201a8"
             ],
             [
              0.3333333333333333,
              "#9c179e"
             ],
             [
              0.4444444444444444,
              "#bd3786"
             ],
             [
              0.5555555555555556,
              "#d8576b"
             ],
             [
              0.6666666666666666,
              "#ed7953"
             ],
             [
              0.7777777777777778,
              "#fb9f3a"
             ],
             [
              0.8888888888888888,
              "#fdca26"
             ],
             [
              1,
              "#f0f921"
             ]
            ],
            "type": "heatmapgl"
           }
          ],
          "histogram": [
           {
            "marker": {
             "pattern": {
              "fillmode": "overlay",
              "size": 10,
              "solidity": 0.2
             }
            },
            "type": "histogram"
           }
          ],
          "histogram2d": [
           {
            "colorbar": {
             "outlinewidth": 0,
             "ticks": ""
            },
            "colorscale": [
             [
              0,
              "#0d0887"
             ],
             [
              0.1111111111111111,
              "#46039f"
             ],
             [
              0.2222222222222222,
              "#7201a8"
             ],
             [
              0.3333333333333333,
              "#9c179e"
             ],
             [
              0.4444444444444444,
              "#bd3786"
             ],
             [
              0.5555555555555556,
              "#d8576b"
             ],
             [
              0.6666666666666666,
              "#ed7953"
             ],
             [
              0.7777777777777778,
              "#fb9f3a"
             ],
             [
              0.8888888888888888,
              "#fdca26"
             ],
             [
              1,
              "#f0f921"
             ]
            ],
            "type": "histogram2d"
           }
          ],
          "histogram2dcontour": [
           {
            "colorbar": {
             "outlinewidth": 0,
             "ticks": ""
            },
            "colorscale": [
             [
              0,
              "#0d0887"
             ],
             [
              0.1111111111111111,
              "#46039f"
             ],
             [
              0.2222222222222222,
              "#7201a8"
             ],
             [
              0.3333333333333333,
              "#9c179e"
             ],
             [
              0.4444444444444444,
              "#bd3786"
             ],
             [
              0.5555555555555556,
              "#d8576b"
             ],
             [
              0.6666666666666666,
              "#ed7953"
             ],
             [
              0.7777777777777778,
              "#fb9f3a"
             ],
             [
              0.8888888888888888,
              "#fdca26"
             ],
             [
              1,
              "#f0f921"
             ]
            ],
            "type": "histogram2dcontour"
           }
          ],
          "mesh3d": [
           {
            "colorbar": {
             "outlinewidth": 0,
             "ticks": ""
            },
            "type": "mesh3d"
           }
          ],
          "parcoords": [
           {
            "line": {
             "colorbar": {
              "outlinewidth": 0,
              "ticks": ""
             }
            },
            "type": "parcoords"
           }
          ],
          "pie": [
           {
            "automargin": true,
            "type": "pie"
           }
          ],
          "scatter": [
           {
            "fillpattern": {
             "fillmode": "overlay",
             "size": 10,
             "solidity": 0.2
            },
            "type": "scatter"
           }
          ],
          "scatter3d": [
           {
            "line": {
             "colorbar": {
              "outlinewidth": 0,
              "ticks": ""
             }
            },
            "marker": {
             "colorbar": {
              "outlinewidth": 0,
              "ticks": ""
             }
            },
            "type": "scatter3d"
           }
          ],
          "scattercarpet": [
           {
            "marker": {
             "colorbar": {
              "outlinewidth": 0,
              "ticks": ""
             }
            },
            "type": "scattercarpet"
           }
          ],
          "scattergeo": [
           {
            "marker": {
             "colorbar": {
              "outlinewidth": 0,
              "ticks": ""
             }
            },
            "type": "scattergeo"
           }
          ],
          "scattergl": [
           {
            "marker": {
             "colorbar": {
              "outlinewidth": 0,
              "ticks": ""
             }
            },
            "type": "scattergl"
           }
          ],
          "scattermapbox": [
           {
            "marker": {
             "colorbar": {
              "outlinewidth": 0,
              "ticks": ""
             }
            },
            "type": "scattermapbox"
           }
          ],
          "scatterpolar": [
           {
            "marker": {
             "colorbar": {
              "outlinewidth": 0,
              "ticks": ""
             }
            },
            "type": "scatterpolar"
           }
          ],
          "scatterpolargl": [
           {
            "marker": {
             "colorbar": {
              "outlinewidth": 0,
              "ticks": ""
             }
            },
            "type": "scatterpolargl"
           }
          ],
          "scatterternary": [
           {
            "marker": {
             "colorbar": {
              "outlinewidth": 0,
              "ticks": ""
             }
            },
            "type": "scatterternary"
           }
          ],
          "surface": [
           {
            "colorbar": {
             "outlinewidth": 0,
             "ticks": ""
            },
            "colorscale": [
             [
              0,
              "#0d0887"
             ],
             [
              0.1111111111111111,
              "#46039f"
             ],
             [
              0.2222222222222222,
              "#7201a8"
             ],
             [
              0.3333333333333333,
              "#9c179e"
             ],
             [
              0.4444444444444444,
              "#bd3786"
             ],
             [
              0.5555555555555556,
              "#d8576b"
             ],
             [
              0.6666666666666666,
              "#ed7953"
             ],
             [
              0.7777777777777778,
              "#fb9f3a"
             ],
             [
              0.8888888888888888,
              "#fdca26"
             ],
             [
              1,
              "#f0f921"
             ]
            ],
            "type": "surface"
           }
          ],
          "table": [
           {
            "cells": {
             "fill": {
              "color": "#EBF0F8"
             },
             "line": {
              "color": "white"
             }
            },
            "header": {
             "fill": {
              "color": "#C8D4E3"
             },
             "line": {
              "color": "white"
             }
            },
            "type": "table"
           }
          ]
         },
         "layout": {
          "annotationdefaults": {
           "arrowcolor": "#2a3f5f",
           "arrowhead": 0,
           "arrowwidth": 1
          },
          "autotypenumbers": "strict",
          "coloraxis": {
           "colorbar": {
            "outlinewidth": 0,
            "ticks": ""
           }
          },
          "colorscale": {
           "diverging": [
            [
             0,
             "#8e0152"
            ],
            [
             0.1,
             "#c51b7d"
            ],
            [
             0.2,
             "#de77ae"
            ],
            [
             0.3,
             "#f1b6da"
            ],
            [
             0.4,
             "#fde0ef"
            ],
            [
             0.5,
             "#f7f7f7"
            ],
            [
             0.6,
             "#e6f5d0"
            ],
            [
             0.7,
             "#b8e186"
            ],
            [
             0.8,
             "#7fbc41"
            ],
            [
             0.9,
             "#4d9221"
            ],
            [
             1,
             "#276419"
            ]
           ],
           "sequential": [
            [
             0,
             "#0d0887"
            ],
            [
             0.1111111111111111,
             "#46039f"
            ],
            [
             0.2222222222222222,
             "#7201a8"
            ],
            [
             0.3333333333333333,
             "#9c179e"
            ],
            [
             0.4444444444444444,
             "#bd3786"
            ],
            [
             0.5555555555555556,
             "#d8576b"
            ],
            [
             0.6666666666666666,
             "#ed7953"
            ],
            [
             0.7777777777777778,
             "#fb9f3a"
            ],
            [
             0.8888888888888888,
             "#fdca26"
            ],
            [
             1,
             "#f0f921"
            ]
           ],
           "sequentialminus": [
            [
             0,
             "#0d0887"
            ],
            [
             0.1111111111111111,
             "#46039f"
            ],
            [
             0.2222222222222222,
             "#7201a8"
            ],
            [
             0.3333333333333333,
             "#9c179e"
            ],
            [
             0.4444444444444444,
             "#bd3786"
            ],
            [
             0.5555555555555556,
             "#d8576b"
            ],
            [
             0.6666666666666666,
             "#ed7953"
            ],
            [
             0.7777777777777778,
             "#fb9f3a"
            ],
            [
             0.8888888888888888,
             "#fdca26"
            ],
            [
             1,
             "#f0f921"
            ]
           ]
          },
          "colorway": [
           "#636efa",
           "#EF553B",
           "#00cc96",
           "#ab63fa",
           "#FFA15A",
           "#19d3f3",
           "#FF6692",
           "#B6E880",
           "#FF97FF",
           "#FECB52"
          ],
          "font": {
           "color": "#2a3f5f"
          },
          "geo": {
           "bgcolor": "white",
           "lakecolor": "white",
           "landcolor": "#E5ECF6",
           "showlakes": true,
           "showland": true,
           "subunitcolor": "white"
          },
          "hoverlabel": {
           "align": "left"
          },
          "hovermode": "closest",
          "mapbox": {
           "style": "light"
          },
          "paper_bgcolor": "white",
          "plot_bgcolor": "#E5ECF6",
          "polar": {
           "angularaxis": {
            "gridcolor": "white",
            "linecolor": "white",
            "ticks": ""
           },
           "bgcolor": "#E5ECF6",
           "radialaxis": {
            "gridcolor": "white",
            "linecolor": "white",
            "ticks": ""
           }
          },
          "scene": {
           "xaxis": {
            "backgroundcolor": "#E5ECF6",
            "gridcolor": "white",
            "gridwidth": 2,
            "linecolor": "white",
            "showbackground": true,
            "ticks": "",
            "zerolinecolor": "white"
           },
           "yaxis": {
            "backgroundcolor": "#E5ECF6",
            "gridcolor": "white",
            "gridwidth": 2,
            "linecolor": "white",
            "showbackground": true,
            "ticks": "",
            "zerolinecolor": "white"
           },
           "zaxis": {
            "backgroundcolor": "#E5ECF6",
            "gridcolor": "white",
            "gridwidth": 2,
            "linecolor": "white",
            "showbackground": true,
            "ticks": "",
            "zerolinecolor": "white"
           }
          },
          "shapedefaults": {
           "line": {
            "color": "#2a3f5f"
           }
          },
          "ternary": {
           "aaxis": {
            "gridcolor": "white",
            "linecolor": "white",
            "ticks": ""
           },
           "baxis": {
            "gridcolor": "white",
            "linecolor": "white",
            "ticks": ""
           },
           "bgcolor": "#E5ECF6",
           "caxis": {
            "gridcolor": "white",
            "linecolor": "white",
            "ticks": ""
           }
          },
          "title": {
           "x": 0.05
          },
          "xaxis": {
           "automargin": true,
           "gridcolor": "white",
           "linecolor": "white",
           "ticks": "",
           "title": {
            "standoff": 15
           },
           "zerolinecolor": "white",
           "zerolinewidth": 2
          },
          "yaxis": {
           "automargin": true,
           "gridcolor": "white",
           "linecolor": "white",
           "ticks": "",
           "title": {
            "standoff": 15
           },
           "zerolinecolor": "white",
           "zerolinewidth": 2
          }
         }
        },
        "title": {
         "text": "Average poops per day 💩"
        }
       }
      }
     },
     "metadata": {},
     "output_type": "display_data"
    }
   ],
   "source": [
    "x = df_poops_per_week_avg['time']\n",
    "y = df_poops_per_week_avg['solid']\n",
    "\n",
    "fig = go.Figure()\n",
    "fig.add_trace(go.Bar(\n",
    "                    y=y,\n",
    "                    x=x,\n",
    "              marker_color='#7A5901'\n",
    "))\n",
    "fig.update_layout(bargap=0.2, title_text='Average poops per day 💩')\n",
    "fig.show()"
   ]
  },
  {
   "cell_type": "markdown",
   "metadata": {},
   "source": []
  }
 ],
 "metadata": {
  "kernelspec": {
   "display_name": "Python 3",
   "language": "python",
   "name": "python3"
  },
  "language_info": {
   "codemirror_mode": {
    "name": "ipython",
    "version": 3
   },
   "file_extension": ".py",
   "mimetype": "text/x-python",
   "name": "python",
   "nbconvert_exporter": "python",
   "pygments_lexer": "ipython3",
   "version": "3.12.1"
  }
 },
 "nbformat": 4,
 "nbformat_minor": 4
}
